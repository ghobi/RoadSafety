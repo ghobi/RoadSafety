{
 "cells": [
  {
   "cell_type": "markdown",
   "source": [
    "# RoadSafety"
   ],
   "metadata": {
    "collapsed": false
   }
  },
  {
   "cell_type": "markdown",
   "source": [
    "## Importing Modules\n",
    "\n",
    "Importing libraries installed using PyPI and functions present in scripts created in for this project."
   ],
   "metadata": {
    "collapsed": false
   }
  },
  {
   "cell_type": "code",
   "execution_count": 2,
   "outputs": [],
   "source": [
    "import tensorflow as tf\n",
    "import numpy as np\n",
    "from PIL import Image"
   ],
   "metadata": {
    "collapsed": false,
    "pycharm": {
     "name": "#%%\n",
     "is_executing": false
    }
   }
  },
  {
   "cell_type": "markdown",
   "source": [
    "## Executing Pre-Trained TensorFlow Model"
   ],
   "metadata": {
    "collapsed": false,
    "pycharm": {
     "name": "#%% md\n"
    }
   }
  },
  {
   "cell_type": "code",
   "execution_count": 11,
   "outputs": [
    {
     "name": "stdout",
     "text": [
      "[[2 2 2 7 7 7 7 7 7 7]\n",
      " [2 2 2 7 7 7 7 7 7 7]\n",
      " [8 7 7 7 7 7 7 7 7 7]\n",
      " [7 7 7 2 2 2 7 7 7 7]\n",
      " [7 7 7 2 2 8 8 8 8 8]\n",
      " [7 7 2 2 2 2 2 8 7 7]\n",
      " [7 7 2 2 2 2 2 7 7 7]\n",
      " [7 2 2 2 2 2 2 7 7 7]\n",
      " [2 2 2 2 2 2 2 7 7 7]\n",
      " [2 2 2 2 2 2 2 2 7 2]]\n",
      "[(0, 0, 0), (8, 111, 8), (16, 222, 16), (25, 77, 24), (33, 188, 32), (42, 43, 40), (50, 154, 48), (59, 9, 56), (67, 120, 64), (75, 231, 72), (84, 86, 80), (92, 197, 88), (101, 52, 96), (109, 163, 104), (118, 18, 112), (126, 129, 120), (134, 240, 128), (143, 95, 136), (151, 206, 144), (160, 61, 152), (168, 172, 160), (177, 27, 168), (185, 138, 176), (193, 249, 184), (202, 104, 192), (210, 215, 200), (219, 70, 208), (227, 181, 216), (236, 36, 224), (244, 147, 232), (253, 2, 240)]\n"
     ],
     "output_type": "stream"
    }
   ],
   "source": [
    "def load_graph(frozen_graph_filename):\n",
    "    \n",
    "    \"\"\"\n",
    "    Args:\n",
    "        frozen_graph_filename (str): Full path to the .pb file.\n",
    "    \"\"\"\n",
    "    # We load the protobuf file from the disk and parse it to retrieve the unserialized graph_def\n",
    "    with tf.io.gfile.GFile(frozen_graph_filename, \"rb\") as f:\n",
    "        graph_def = tf.compat.v1.GraphDef()\n",
    "        graph_def.ParseFromString(f.read())\n",
    "\n",
    "    # Then, we import the graph_def into a new Graph and returns it\n",
    "    with tf.Graph().as_default() as graph:\n",
    "        # The name var will prefix every op/nodes in your graph\n",
    "        # Since we load everything in a new graph, this is not needed\n",
    "        tf.import_graph_def(graph_def, name=\"prefix\")\n",
    "        return graph\n",
    "\n",
    "\n",
    "def segment(graph, image_file):\n",
    "    \"\"\"\n",
    "    Does the segmentation on the given image.\n",
    "    Args:\n",
    "        graph (Tensorflow Graph)\n",
    "        image_file (str): Full path to your image\n",
    "    Returns:\n",
    "        segmentation_mask (np.array): The segmentation mask of the image.\n",
    "    \"\"\"\n",
    "    # We access the input and output nodes\n",
    "    x = graph.get_tensor_by_name('prefix/ImageTensor:0')\n",
    "    y = graph.get_tensor_by_name('prefix/SemanticPredictions:0')\n",
    "\n",
    "    # We launch a Session\n",
    "    with tf.compat.v1.Session(graph=graph) as sess:\n",
    "        image = Image.open(image_file)\n",
    "        image = image.resize((10, 10)) # 299\n",
    "        image_array = np.array(image)\n",
    "        image_array = np.expand_dims(image_array, axis=0)\n",
    "\n",
    "        # Note: we don't nee to initialize/restore anything\n",
    "        # There is no Variables in this graph, only hardcoded constants\n",
    "        pred = sess.run(y, feed_dict={x: image_array})\n",
    "\n",
    "        pred = pred.squeeze()\n",
    "        \n",
    "        print(pred)\n",
    "\n",
    "    return pred\n",
    "\n",
    "def get_n_rgb_colors(n):\n",
    "    \"\"\"\n",
    "    n = 30 (number of classes)\n",
    "    Get n evenly spaced RGB colors.\n",
    "    Returns:\n",
    "        rgb_colors (list): List of RGB colors.\n",
    "    \"\"\"\n",
    "    max_value = 16581375  # 255**3\n",
    "    interval = int(max_value / n)\n",
    "    colors = [hex(I)[2:].zfill(6) for I in range(0, max_value, interval)]\n",
    "\n",
    "    rgb_colors = [(int(i[:2], 16), int(i[2:4], 16), int(i[4:], 16)) for i in colors]\n",
    "    \n",
    "    print(rgb_colors)\n",
    "\n",
    "    return rgb_colors\n",
    "\n",
    "def parse_pred(pred, n_classes):\n",
    "    \"\"\"\n",
    "    Parses a prediction and returns the prediction as a PIL.Image.\n",
    "    Args:\n",
    "        pred (np.array)\n",
    "    Returns:\n",
    "        parsed_pred (PIL.Image): Parsed prediction that we can view as an image.\n",
    "    \"\"\"\n",
    "    uni = np.unique(pred)\n",
    "\n",
    "    empty = np.empty((pred.shape[1], pred.shape[0], 3))\n",
    "\n",
    "    colors = get_n_rgb_colors(n_classes)\n",
    "\n",
    "    for i, u in enumerate(uni):\n",
    "        idx = np.transpose(np.nonzero(pred == u))\n",
    "        c = colors[u]\n",
    "        empty[idx[:, 0], idx[:, 1]] = [c[0], c[1], c[2]]\n",
    "\n",
    "    parsed_pred = np.array(empty, dtype=np.uint8)\n",
    "    parsed_pred = Image.fromarray(parsed_pred)\n",
    "\n",
    "    return parsed_pred\n",
    "\n",
    "\n",
    "if __name__ == '__main__':\n",
    "    N_CLASSES = 30\n",
    "    MODEL_FILE = '/Users/luisrita/PycharmProjects/RoadSafety/cityscapes/frozen_inference_graph.pb'\n",
    "    IMAGE_FILE = '/Users/luisrita/PycharmProjects/RoadSafety/img/london.png'\n",
    "\n",
    "    graph = load_graph(MODEL_FILE)\n",
    "    prediction = segment(graph, IMAGE_FILE)\n",
    "    segmented_image = parse_pred(prediction, N_CLASSES)\n",
    "\n",
    "    segmented_image.show()"
   ],
   "metadata": {
    "collapsed": false,
    "pycharm": {
     "name": "#%%\n",
     "is_executing": false
    }
   }
  },
  {
   "cell_type": "code",
   "execution_count": null,
   "outputs": [],
   "source": [],
   "metadata": {
    "collapsed": false,
    "pycharm": {
     "name": "#%%\n",
     "is_executing": false
    }
   }
  }
 ],
 "metadata": {
  "kernelspec": {
   "display_name": "Python 3",
   "language": "python",
   "name": "python3"
  },
  "language_info": {
   "codemirror_mode": {
    "name": "ipython",
    "version": 2
   },
   "file_extension": ".py",
   "mimetype": "text/x-python",
   "name": "python",
   "nbconvert_exporter": "python",
   "pygments_lexer": "ipython2",
   "version": "2.7.6"
  },
  "pycharm": {
   "stem_cell": {
    "cell_type": "raw",
    "source": [],
    "metadata": {
     "collapsed": false
    }
   }
  }
 },
 "nbformat": 4,
 "nbformat_minor": 0
}