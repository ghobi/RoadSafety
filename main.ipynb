{
 "cells": [
  {
   "cell_type": "markdown",
   "metadata": {},
   "source": [
    "# RoadSafety"
   ]
  },
  {
   "cell_type": "markdown",
   "metadata": {},
   "source": [
    "## Importing Modules\n",
    "\n",
    "Importing libraries installed using PyPI and functions present in scripts created in for this project."
   ]
  },
  {
   "cell_type": "code",
   "execution_count": 1,
   "metadata": {
    "jupyter": {
     "outputs_hidden": false
    },
    "pycharm": {
     "name": "#%%\n"
    }
   },
   "outputs": [],
   "source": [
    "import tensorflow as tf\n",
    "import numpy as np\n",
    "from PIL import Image\n",
    "from google.protobuf import text_format\n",
    "\n",
    "from joblib import Parallel, delayed\n",
    "import joblib\n",
    "import multiprocessing\n",
    "\n",
    "import time"
   ]
  },
  {
   "cell_type": "markdown",
   "metadata": {
    "pycharm": {
     "name": "#%% md\n"
    }
   },
   "source": [
    "## Executing Pre-Trained TensorFlow Model"
   ]
  },
  {
   "cell_type": "code",
   "execution_count": 9,
   "metadata": {
    "jupyter": {
     "outputs_hidden": false
    },
    "pycharm": {
     "name": "#%%\n"
    }
   },
   "outputs": [
    {
     "name": "stdout",
     "output_type": "stream",
     "text": [
      "<tensorflow.python.framework.ops.Graph object at 0x7fe6e7547ac0>\n",
      "8\n"
     ]
    },
    {
     "ename": "AttributeError",
     "evalue": "module 'tensorflow' has no attribute 'reset_default_graph'",
     "output_type": "error",
     "traceback": [
      "\u001B[0;31m---------------------------------------------------------------------------\u001B[0m",
      "\u001B[0;31m_RemoteTraceback\u001B[0m                          Traceback (most recent call last)",
      "\u001B[0;31m_RemoteTraceback\u001B[0m: \n\"\"\"\nTraceback (most recent call last):\n  File \"/Library/Frameworks/Python.framework/Versions/3.8/lib/python3.8/site-packages/joblib/externals/loky/process_executor.py\", line 431, in _process_worker\n    r = call_item()\n  File \"/Library/Frameworks/Python.framework/Versions/3.8/lib/python3.8/site-packages/joblib/externals/loky/process_executor.py\", line 285, in __call__\n    return self.fn(*self.args, **self.kwargs)\n  File \"/Library/Frameworks/Python.framework/Versions/3.8/lib/python3.8/site-packages/joblib/_parallel_backends.py\", line 593, in __call__\n    return self.func(*args, **kwargs)\n  File \"/Library/Frameworks/Python.framework/Versions/3.8/lib/python3.8/site-packages/joblib/parallel.py\", line 252, in __call__\n    return [func(*args, **kwargs)\n  File \"/Library/Frameworks/Python.framework/Versions/3.8/lib/python3.8/site-packages/joblib/parallel.py\", line 252, in <listcomp>\n    return [func(*args, **kwargs)\n  File \"<ipython-input-9-ad0c273c94de>\", line 90, in auxx11\n  File \"<ipython-input-9-ad0c273c94de>\", line 35, in segment\nAttributeError: module 'tensorflow' has no attribute 'reset_default_graph'\n\"\"\"",
      "\nThe above exception was the direct cause of the following exception:\n",
      "\u001B[0;31mAttributeError\u001B[0m                            Traceback (most recent call last)",
      "\u001B[0;32m<ipython-input-9-ad0c273c94de>\u001B[0m in \u001B[0;36m<module>\u001B[0;34m\u001B[0m\n\u001B[1;32m     96\u001B[0m \u001B[0mprint\u001B[0m\u001B[0;34m(\u001B[0m\u001B[0mnum_cores\u001B[0m\u001B[0;34m)\u001B[0m\u001B[0;34m\u001B[0m\u001B[0;34m\u001B[0m\u001B[0m\n\u001B[1;32m     97\u001B[0m \u001B[0;34m\u001B[0m\u001B[0m\n\u001B[0;32m---> 98\u001B[0;31m \u001B[0mout_output\u001B[0m \u001B[0;34m=\u001B[0m \u001B[0mParallel\u001B[0m\u001B[0;34m(\u001B[0m\u001B[0mn_jobs\u001B[0m\u001B[0;34m=\u001B[0m\u001B[0;36m2\u001B[0m\u001B[0;34m)\u001B[0m\u001B[0;34m(\u001B[0m\u001B[0mdelayed\u001B[0m\u001B[0;34m(\u001B[0m\u001B[0mauxx11\u001B[0m\u001B[0;34m)\u001B[0m\u001B[0;34m(\u001B[0m\u001B[0mimage\u001B[0m\u001B[0;34m)\u001B[0m \u001B[0;32mfor\u001B[0m \u001B[0mimage\u001B[0m \u001B[0;32min\u001B[0m \u001B[0mimages\u001B[0m\u001B[0;34m)\u001B[0m\u001B[0;34m\u001B[0m\u001B[0;34m\u001B[0m\u001B[0m\n\u001B[0m\u001B[1;32m     99\u001B[0m \u001B[0;34m\u001B[0m\u001B[0m\n",
      "\u001B[0;32m/Library/Frameworks/Python.framework/Versions/3.8/lib/python3.8/site-packages/joblib/parallel.py\u001B[0m in \u001B[0;36m__call__\u001B[0;34m(self, iterable)\u001B[0m\n\u001B[1;32m   1040\u001B[0m \u001B[0;34m\u001B[0m\u001B[0m\n\u001B[1;32m   1041\u001B[0m             \u001B[0;32mwith\u001B[0m \u001B[0mself\u001B[0m\u001B[0;34m.\u001B[0m\u001B[0m_backend\u001B[0m\u001B[0;34m.\u001B[0m\u001B[0mretrieval_context\u001B[0m\u001B[0;34m(\u001B[0m\u001B[0;34m)\u001B[0m\u001B[0;34m:\u001B[0m\u001B[0;34m\u001B[0m\u001B[0;34m\u001B[0m\u001B[0m\n\u001B[0;32m-> 1042\u001B[0;31m                 \u001B[0mself\u001B[0m\u001B[0;34m.\u001B[0m\u001B[0mretrieve\u001B[0m\u001B[0;34m(\u001B[0m\u001B[0;34m)\u001B[0m\u001B[0;34m\u001B[0m\u001B[0;34m\u001B[0m\u001B[0m\n\u001B[0m\u001B[1;32m   1043\u001B[0m             \u001B[0;31m# Make sure that we get a last message telling us we are done\u001B[0m\u001B[0;34m\u001B[0m\u001B[0;34m\u001B[0m\u001B[0;34m\u001B[0m\u001B[0m\n\u001B[1;32m   1044\u001B[0m             \u001B[0melapsed_time\u001B[0m \u001B[0;34m=\u001B[0m \u001B[0mtime\u001B[0m\u001B[0;34m.\u001B[0m\u001B[0mtime\u001B[0m\u001B[0;34m(\u001B[0m\u001B[0;34m)\u001B[0m \u001B[0;34m-\u001B[0m \u001B[0mself\u001B[0m\u001B[0;34m.\u001B[0m\u001B[0m_start_time\u001B[0m\u001B[0;34m\u001B[0m\u001B[0;34m\u001B[0m\u001B[0m\n",
      "\u001B[0;32m/Library/Frameworks/Python.framework/Versions/3.8/lib/python3.8/site-packages/joblib/parallel.py\u001B[0m in \u001B[0;36mretrieve\u001B[0;34m(self)\u001B[0m\n\u001B[1;32m    919\u001B[0m             \u001B[0;32mtry\u001B[0m\u001B[0;34m:\u001B[0m\u001B[0;34m\u001B[0m\u001B[0;34m\u001B[0m\u001B[0m\n\u001B[1;32m    920\u001B[0m                 \u001B[0;32mif\u001B[0m \u001B[0mgetattr\u001B[0m\u001B[0;34m(\u001B[0m\u001B[0mself\u001B[0m\u001B[0;34m.\u001B[0m\u001B[0m_backend\u001B[0m\u001B[0;34m,\u001B[0m \u001B[0;34m'supports_timeout'\u001B[0m\u001B[0;34m,\u001B[0m \u001B[0;32mFalse\u001B[0m\u001B[0;34m)\u001B[0m\u001B[0;34m:\u001B[0m\u001B[0;34m\u001B[0m\u001B[0;34m\u001B[0m\u001B[0m\n\u001B[0;32m--> 921\u001B[0;31m                     \u001B[0mself\u001B[0m\u001B[0;34m.\u001B[0m\u001B[0m_output\u001B[0m\u001B[0;34m.\u001B[0m\u001B[0mextend\u001B[0m\u001B[0;34m(\u001B[0m\u001B[0mjob\u001B[0m\u001B[0;34m.\u001B[0m\u001B[0mget\u001B[0m\u001B[0;34m(\u001B[0m\u001B[0mtimeout\u001B[0m\u001B[0;34m=\u001B[0m\u001B[0mself\u001B[0m\u001B[0;34m.\u001B[0m\u001B[0mtimeout\u001B[0m\u001B[0;34m)\u001B[0m\u001B[0;34m)\u001B[0m\u001B[0;34m\u001B[0m\u001B[0;34m\u001B[0m\u001B[0m\n\u001B[0m\u001B[1;32m    922\u001B[0m                 \u001B[0;32melse\u001B[0m\u001B[0;34m:\u001B[0m\u001B[0;34m\u001B[0m\u001B[0;34m\u001B[0m\u001B[0m\n\u001B[1;32m    923\u001B[0m                     \u001B[0mself\u001B[0m\u001B[0;34m.\u001B[0m\u001B[0m_output\u001B[0m\u001B[0;34m.\u001B[0m\u001B[0mextend\u001B[0m\u001B[0;34m(\u001B[0m\u001B[0mjob\u001B[0m\u001B[0;34m.\u001B[0m\u001B[0mget\u001B[0m\u001B[0;34m(\u001B[0m\u001B[0;34m)\u001B[0m\u001B[0;34m)\u001B[0m\u001B[0;34m\u001B[0m\u001B[0;34m\u001B[0m\u001B[0m\n",
      "\u001B[0;32m/Library/Frameworks/Python.framework/Versions/3.8/lib/python3.8/site-packages/joblib/_parallel_backends.py\u001B[0m in \u001B[0;36mwrap_future_result\u001B[0;34m(future, timeout)\u001B[0m\n\u001B[1;32m    538\u001B[0m         AsyncResults.get from multiprocessing.\"\"\"\n\u001B[1;32m    539\u001B[0m         \u001B[0;32mtry\u001B[0m\u001B[0;34m:\u001B[0m\u001B[0;34m\u001B[0m\u001B[0;34m\u001B[0m\u001B[0m\n\u001B[0;32m--> 540\u001B[0;31m             \u001B[0;32mreturn\u001B[0m \u001B[0mfuture\u001B[0m\u001B[0;34m.\u001B[0m\u001B[0mresult\u001B[0m\u001B[0;34m(\u001B[0m\u001B[0mtimeout\u001B[0m\u001B[0;34m=\u001B[0m\u001B[0mtimeout\u001B[0m\u001B[0;34m)\u001B[0m\u001B[0;34m\u001B[0m\u001B[0;34m\u001B[0m\u001B[0m\n\u001B[0m\u001B[1;32m    541\u001B[0m         \u001B[0;32mexcept\u001B[0m \u001B[0mCfTimeoutError\u001B[0m\u001B[0;34m:\u001B[0m\u001B[0;34m\u001B[0m\u001B[0;34m\u001B[0m\u001B[0m\n\u001B[1;32m    542\u001B[0m             \u001B[0;32mraise\u001B[0m \u001B[0mTimeoutError\u001B[0m\u001B[0;34m(\u001B[0m\u001B[0;34m)\u001B[0m\u001B[0;34m\u001B[0m\u001B[0;34m\u001B[0m\u001B[0m\n",
      "\u001B[0;32m/Library/Frameworks/Python.framework/Versions/3.8/lib/python3.8/concurrent/futures/_base.py\u001B[0m in \u001B[0;36mresult\u001B[0;34m(self, timeout)\u001B[0m\n\u001B[1;32m    437\u001B[0m                 \u001B[0;32mraise\u001B[0m \u001B[0mCancelledError\u001B[0m\u001B[0;34m(\u001B[0m\u001B[0;34m)\u001B[0m\u001B[0;34m\u001B[0m\u001B[0;34m\u001B[0m\u001B[0m\n\u001B[1;32m    438\u001B[0m             \u001B[0;32melif\u001B[0m \u001B[0mself\u001B[0m\u001B[0;34m.\u001B[0m\u001B[0m_state\u001B[0m \u001B[0;34m==\u001B[0m \u001B[0mFINISHED\u001B[0m\u001B[0;34m:\u001B[0m\u001B[0;34m\u001B[0m\u001B[0;34m\u001B[0m\u001B[0m\n\u001B[0;32m--> 439\u001B[0;31m                 \u001B[0;32mreturn\u001B[0m \u001B[0mself\u001B[0m\u001B[0;34m.\u001B[0m\u001B[0m__get_result\u001B[0m\u001B[0;34m(\u001B[0m\u001B[0;34m)\u001B[0m\u001B[0;34m\u001B[0m\u001B[0;34m\u001B[0m\u001B[0m\n\u001B[0m\u001B[1;32m    440\u001B[0m             \u001B[0;32melse\u001B[0m\u001B[0;34m:\u001B[0m\u001B[0;34m\u001B[0m\u001B[0;34m\u001B[0m\u001B[0m\n\u001B[1;32m    441\u001B[0m                 \u001B[0;32mraise\u001B[0m \u001B[0mTimeoutError\u001B[0m\u001B[0;34m(\u001B[0m\u001B[0;34m)\u001B[0m\u001B[0;34m\u001B[0m\u001B[0;34m\u001B[0m\u001B[0m\n",
      "\u001B[0;32m/Library/Frameworks/Python.framework/Versions/3.8/lib/python3.8/concurrent/futures/_base.py\u001B[0m in \u001B[0;36m__get_result\u001B[0;34m(self)\u001B[0m\n\u001B[1;32m    386\u001B[0m     \u001B[0;32mdef\u001B[0m \u001B[0m__get_result\u001B[0m\u001B[0;34m(\u001B[0m\u001B[0mself\u001B[0m\u001B[0;34m)\u001B[0m\u001B[0;34m:\u001B[0m\u001B[0;34m\u001B[0m\u001B[0;34m\u001B[0m\u001B[0m\n\u001B[1;32m    387\u001B[0m         \u001B[0;32mif\u001B[0m \u001B[0mself\u001B[0m\u001B[0;34m.\u001B[0m\u001B[0m_exception\u001B[0m\u001B[0;34m:\u001B[0m\u001B[0;34m\u001B[0m\u001B[0;34m\u001B[0m\u001B[0m\n\u001B[0;32m--> 388\u001B[0;31m             \u001B[0;32mraise\u001B[0m \u001B[0mself\u001B[0m\u001B[0;34m.\u001B[0m\u001B[0m_exception\u001B[0m\u001B[0;34m\u001B[0m\u001B[0;34m\u001B[0m\u001B[0m\n\u001B[0m\u001B[1;32m    389\u001B[0m         \u001B[0;32melse\u001B[0m\u001B[0;34m:\u001B[0m\u001B[0;34m\u001B[0m\u001B[0;34m\u001B[0m\u001B[0m\n\u001B[1;32m    390\u001B[0m             \u001B[0;32mreturn\u001B[0m \u001B[0mself\u001B[0m\u001B[0;34m.\u001B[0m\u001B[0m_result\u001B[0m\u001B[0;34m\u001B[0m\u001B[0;34m\u001B[0m\u001B[0m\n",
      "\u001B[0;31mAttributeError\u001B[0m: module 'tensorflow' has no attribute 'reset_default_graph'"
     ]
    }
   ],
   "source": [
    "def load_graph(frozen_graph_filename):\n",
    "    \n",
    "    \"\"\"\n",
    "    Args:\n",
    "        frozen_graph_filename (str): Full path to the .pb file.\n",
    "    \"\"\"\n",
    "    # We load the protobuf file from the disk and parse it to retrieve the unserialized graph_def\n",
    "    with tf.io.gfile.GFile(frozen_graph_filename, \"rb\") as f:\n",
    "        graph_def = tf.compat.v1.GraphDef()\n",
    "        graph_def.ParseFromString(f.read())\n",
    "        \n",
    "        #text_format.Merge(frozen_graph_filename,graph_def)\n",
    "\n",
    "    # Then, we import the graph_def into a new Graph and returns it\n",
    "    with tf.Graph().as_default() as graph:\n",
    "        # The name var will prefix every op/nodes in your graph\n",
    "        # Since we load everything in a new graph, this is not needed\n",
    "        tf.import_graph_def(graph_def, name=\"prefix\")\n",
    "        print(graph)\n",
    "        return graph\n",
    "\n",
    "def segment(image_file):\n",
    "    \"\"\"\n",
    "    Does the segmentation on the given image.\n",
    "    Args:\n",
    "        graph (Tensorflow Graph)\n",
    "        image_file (str): Full path to your image\n",
    "    Returns:\n",
    "        segmentation_mask (np.array): The segmentation mask of the image.\n",
    "    \"\"\"\n",
    "    # We access the input and output nodes\n",
    "\n",
    "    #graph = load_graph(MODEL_FILE)\n",
    "\n",
    "    tf.reset_default_graph()\n",
    "\n",
    "    MODEL_FILE = 'cityscapes/frozen_inference_graph.pb'\n",
    "    graph = load_graph(MODEL_FILE)\n",
    "\n",
    "    x = graph.get_tensor_by_name('prefix/ImageTensor:0')\n",
    "    y = graph.get_tensor_by_name('prefix/SemanticPredictions:0')\n",
    "\n",
    "    # We launch a Session\n",
    "    with tf.compat.v1.Session(graph=graph) as sess:\n",
    "        image = Image.open(image_file)\n",
    "        image = image.resize((513, 513)) # 299 513\n",
    "        image_array = np.array(image)\n",
    "        image_array = np.expand_dims(image_array, axis=0)\n",
    "\n",
    "        # Note: we don't nee to initialize/restore anything\n",
    "        # There is no Variables in this graph, only hardcoded constants\n",
    "        pred = sess.run(y, feed_dict={x: image_array})\n",
    "\n",
    "        pred = pred.squeeze()\n",
    "        \n",
    "        print(pred)\n",
    "\n",
    "    return pred\n",
    "\n",
    "MODEL_FILE = 'cityscapes/frozen_inference_graph.pb'\n",
    "graph = load_graph(MODEL_FILE)\n",
    "\n",
    "x = graph.get_tensor_by_name('prefix/ImageTensor:0')\n",
    "y = graph.get_tensor_by_name('prefix/SemanticPredictions:0')\n",
    "\n",
    "if __name__ == '__main__':\n",
    "\n",
    "    N_CLASSES = 150 # 30\n",
    "    IMAGE_FILE = 'img/london4.jpg'\n",
    "'''\n",
    "    for image in images:\n",
    "\n",
    "        startTime = time.time()\n",
    "        prediction = segment(IMAGE_FILE)\n",
    "        print(startTime - time.time())\n",
    "        #print('london-images-new/' + image)\n",
    "\n",
    "        #prediction = segment(graph, 'img2/' + image)\n",
    "'''\n",
    "'''\n",
    "\n",
    "    prediction = segment(graph, IMAGE_FILE)\n",
    "    segmented_image = parse_pred(prediction, N_CLASSES)\n",
    "\n",
    "    segmented_image.show()\n",
    "'''\n",
    "\n",
    "def auxx11 (image_var):\n",
    "\n",
    "    output_aux = segment('img2/' + image_var)\n",
    "\n",
    "    return output_aux\n",
    "\n",
    "num_cores = multiprocessing.cpu_count()\n",
    "\n",
    "print(num_cores)\n",
    "\n",
    "out_output = Parallel(n_jobs=2)(delayed(auxx11)(image) for image in images)"
   ]
  },
  {
   "cell_type": "code",
   "execution_count": 6,
   "metadata": {
    "jupyter": {
     "outputs_hidden": false
    },
    "pycharm": {
     "is_executing": false,
     "name": "#%%\n"
    }
   },
   "outputs": [
    {
     "name": "stdout",
     "output_type": "stream",
     "text": [
      "# packages in environment at /Users/luisrita/opt/anaconda3:\n",
      "#\n",
      "# Name                    Version                   Build  Channel\n",
      "_ipyw_jlab_nb_ext_conf    0.1.0                    py37_0  \n",
      "_tflow_select             2.3.0                       mkl  \n",
      "absl-py                   0.9.0                    py37_0  \n",
      "alabaster                 0.7.12                   py37_0  \n",
      "anaconda                  2019.10                  py37_0  \n",
      "anaconda-client           1.7.2                    py37_0  \n",
      "anaconda-navigator        1.9.7                    py37_0  \n",
      "anaconda-project          0.8.3                      py_0  \n",
      "appnope                   0.1.0                    py37_0  \n",
      "appscript                 1.1.0            py37h1de35cc_0  \n",
      "asn1crypto                1.0.1                    py37_0  \n",
      "astor                     0.8.0                    py37_0  \n",
      "astroid                   2.3.1                    py37_0  \n",
      "astropy                   3.2.2            py37h1de35cc_0  \n",
      "atomicwrites              1.3.0                    py37_1  \n",
      "attrs                     19.2.0                     py_0  \n",
      "babel                     2.7.0                      py_0  \n",
      "backcall                  0.1.0                    py37_0  \n",
      "backports                 1.0                        py_2  \n",
      "backports.functools_lru_cache 1.5                        py_2  \n",
      "backports.os              0.1.1                    py37_0  \n",
      "backports.shutil_get_terminal_size 1.0.0                    py37_2  \n",
      "backports.tempfile        1.0                        py_1  \n",
      "backports.weakref         1.0.post1                  py_1  \n",
      "beautifulsoup4            4.8.0                    py37_0  \n",
      "bitarray                  1.0.1            py37h1de35cc_0  \n",
      "bkcharts                  0.2                      py37_0  \n",
      "blas                      1.0                         mkl  \n",
      "bleach                    3.1.0                    py37_0  \n",
      "blosc                     1.16.3               hd9629dc_0  \n",
      "bokeh                     1.3.4                    py37_0  \n",
      "boto                      2.49.0                   py37_0  \n",
      "bottleneck                1.2.1            py37h1d22016_1  \n",
      "bzip2                     1.0.8                h1de35cc_0  \n",
      "c-ares                    1.15.0            h1de35cc_1001  \n",
      "ca-certificates           2019.8.28                     0  \n",
      "certifi                   2019.9.11                py37_0  \n",
      "cffi                      1.12.3           py37hb5b8e2f_0  \n",
      "cftime                    1.0.4.2          py37h1d22016_0  \n",
      "chardet                   3.0.4                 py37_1003  \n",
      "click                     7.0                      py37_0  \n",
      "cloudpickle               1.2.2                      py_0  \n",
      "clyent                    1.2.2                    py37_1  \n",
      "colorama                  0.4.1                    py37_0  \n",
      "conda                     4.8.3                    py37_0  \n",
      "conda-build               3.18.9                   py37_3  \n",
      "conda-env                 2.6.0                         1  \n",
      "conda-package-handling    1.6.0            py37h1de35cc_0  \n",
      "conda-verify              3.4.2                      py_1  \n",
      "contextlib2               0.6.0                      py_0  \n",
      "cryptography              2.7              py37ha12b0ac_0  \n",
      "curl                      7.65.3               ha441bb4_0  \n",
      "cycler                    0.10.0                   py37_0  \n",
      "cython                    0.29.13          py37h0a44026_0  \n",
      "cytoolz                   0.10.0           py37h1de35cc_0  \n",
      "dask                      2.5.2                      py_0  \n",
      "dask-core                 2.5.2                      py_0  \n",
      "dbus                      1.13.6               h90a0687_0  \n",
      "decorator                 4.4.0                    py37_1  \n",
      "defusedxml                0.6.0                      py_0  \n",
      "distributed               2.5.2                      py_0  \n",
      "docutils                  0.15.2                   py37_0  \n",
      "entrypoints               0.3                      py37_0  \n",
      "et_xmlfile                1.0.1                    py37_0  \n",
      "expat                     2.2.6                h0a44026_0  \n",
      "fastcache                 1.1.0            py37h1de35cc_0  \n",
      "filelock                  3.0.12                     py_0  \n",
      "flask                     1.1.1                      py_0  \n",
      "freetype                  2.9.1                hb4e5f40_0  \n",
      "fsspec                    0.5.2                      py_0  \n",
      "future                    0.17.1                   py37_0  \n",
      "gast                      0.2.2                    py37_0  \n",
      "get_terminal_size         1.0.0                h7520d66_0  \n",
      "gettext                   0.19.8.1             h15daf44_3  \n",
      "gevent                    1.4.0            py37h1de35cc_0  \n",
      "glib                      2.56.2               hd9629dc_0  \n",
      "glob2                     0.7                        py_0  \n",
      "gmp                       6.1.2                hb37e062_1  \n",
      "gmpy2                     2.0.8            py37h6ef4df4_2  \n",
      "google-pasta              0.2.0                      py_0  \n",
      "greenlet                  0.4.15           py37h1de35cc_0  \n",
      "grpcio                    1.16.1           py37h044775b_1  \n",
      "h5py                      2.9.0            py37h3134771_0  \n",
      "hdf4                      4.2.13               h39711bb_2  \n",
      "hdf5                      1.10.4               hfa1e0ec_0  \n",
      "heapdict                  1.0.1                      py_0  \n",
      "html5lib                  1.0.1                    py37_0  \n",
      "icu                       58.2                 h4b95b61_1  \n",
      "idna                      2.8                      py37_0  \n",
      "imageio                   2.6.0                    py37_0  \n",
      "imagesize                 1.1.0                    py37_0  \n",
      "importlib_metadata        0.23                     py37_0  \n",
      "intel-openmp              2019.4                      233  \n",
      "ipykernel                 5.1.2            py37h39e3cac_0  \n",
      "ipython                   7.8.0            py37h39e3cac_0  \n",
      "ipython_genutils          0.2.0                    py37_0  \n",
      "ipywidgets                7.5.1                      py_0  \n",
      "isort                     4.3.21                   py37_0  \n",
      "itsdangerous              1.1.0                    py37_0  \n",
      "jbig                      2.1                  h4d881f8_0  \n",
      "jdcal                     1.4.1                      py_0  \n",
      "jedi                      0.15.1                   py37_0  \n",
      "jinja2                    2.10.3                     py_0  \n",
      "joblib                    0.13.2                   py37_0  \n",
      "jpeg                      9b                   he5867d9_2  \n",
      "json5                     0.8.5                      py_0  \n",
      "jsonschema                3.0.2                    py37_0  \n",
      "jupyter                   1.0.0                    py37_7  \n",
      "jupyter_client            5.3.3                    py37_1  \n",
      "jupyter_console           6.0.0                    py37_0  \n",
      "jupyter_core              4.5.0                      py_0  \n",
      "jupyterlab                1.1.4              pyhf63ae98_0  \n",
      "jupyterlab_server         1.0.6                      py_0  \n",
      "keras-applications        1.0.8                      py_0  \n",
      "keras-preprocessing       1.1.0                      py_1  \n",
      "keyring                   18.0.0                   py37_0  \n",
      "kiwisolver                1.1.0            py37h0a44026_0  \n",
      "krb5                      1.16.1               hddcf347_7  \n",
      "lazy-object-proxy         1.4.2            py37h1de35cc_0  \n",
      "libarchive                3.3.3                h786848e_5  \n",
      "libcurl                   7.65.3               h051b688_0  \n",
      "libcxx                    4.0.1                hcfea43d_1  \n",
      "libcxxabi                 4.0.1                hcfea43d_1  \n",
      "libedit                   3.1.20181209         hb402a30_0  \n",
      "libffi                    3.2.1                h475c297_4  \n",
      "libgfortran               3.0.1                h93005f0_2  \n",
      "libiconv                  1.15                 hdd342a3_7  \n",
      "liblief                   0.9.0                h2a1bed3_2  \n",
      "libnetcdf                 4.6.1                hd5207e6_2  \n",
      "libpng                    1.6.37               ha441bb4_0  \n",
      "libprotobuf               3.11.4               hd9629dc_0  \n",
      "libsodium                 1.0.16               h3efe00b_0  \n",
      "libssh2                   1.8.2                ha12b0ac_0  \n",
      "libtiff                   4.0.10               hcb84e12_2  \n",
      "libxml2                   2.9.9                hf6e021a_1  \n",
      "libxslt                   1.1.33               h33a18ac_0  \n",
      "llvm-openmp               4.0.1                hcfea43d_1  \n",
      "llvmlite                  0.29.0           py37h98b8051_0  \n",
      "locket                    0.2.0                    py37_1  \n",
      "lxml                      4.4.1            py37hef8c89e_0  \n",
      "lz4-c                     1.8.1.2              h1de35cc_0  \n",
      "lzo                       2.10                 h362108e_2  \n",
      "markdown                  3.1.1                    py37_0  \n",
      "markupsafe                1.1.1            py37h1de35cc_0  \n",
      "matplotlib                3.1.1            py37h54f8f79_0  \n",
      "mccabe                    0.6.1                    py37_1  \n",
      "mistune                   0.8.4            py37h1de35cc_0  \n",
      "mkl                       2019.4                      233  \n",
      "mkl-service               2.3.0            py37hfbe908c_0  \n",
      "mkl_fft                   1.0.14           py37h5e564d8_0  \n",
      "mkl_random                1.1.0            py37ha771720_0  \n",
      "mock                      3.0.5                    py37_0  \n",
      "more-itertools            7.2.0                    py37_0  \n",
      "mpc                       1.1.0                h6ef4df4_1  \n",
      "mpfr                      4.0.1                h3018a27_3  \n",
      "mpmath                    1.1.0                    py37_0  \n",
      "msgpack-python            0.6.1            py37h04f5b5a_1  \n",
      "multipledispatch          0.6.0                    py37_0  \n",
      "navigator-updater         0.2.1                    py37_0  \n",
      "nbconvert                 5.6.0                    py37_1  \n",
      "nbformat                  4.4.0                    py37_0  \n",
      "ncurses                   6.1                  h0a44026_1  \n",
      "netcdf4                   1.4.2            py37h13743db_0  \n",
      "networkx                  2.3                        py_0  \n",
      "nltk                      3.4.5                    py37_0  \n",
      "nose                      1.3.7                    py37_2  \n",
      "notebook                  6.0.1                    py37_0  \n",
      "numba                     0.45.1           py37h6440ff4_0  \n",
      "numexpr                   2.7.0            py37h7413580_0  \n",
      "numpy                     1.17.2           py37h99e6662_0  \n",
      "numpy-base                1.17.2           py37h6575580_0  \n",
      "numpydoc                  0.9.1                      py_0  \n",
      "olefile                   0.46                     py37_0  \n",
      "openpyxl                  3.0.0                      py_0  \n",
      "openssl                   1.1.1d               h1de35cc_2  \n",
      "opt_einsum                3.1.0                      py_0  \n",
      "packaging                 19.2                       py_0  \n",
      "pandas                    0.25.1           py37h0a44026_0  \n",
      "pandoc                    2.2.3.2                       0  \n",
      "pandocfilters             1.4.2                    py37_1  \n",
      "parso                     0.5.1                      py_0  \n",
      "partd                     1.0.0                      py_0  \n",
      "path.py                   12.0.1                     py_0  \n",
      "pathlib2                  2.3.5                    py37_0  \n",
      "patsy                     0.5.1                    py37_0  \n",
      "pcre                      8.43                 h0a44026_0  \n",
      "pep8                      1.7.1                    py37_0  \n",
      "pexpect                   4.7.0                    py37_0  \n",
      "pickleshare               0.7.5                    py37_0  \n",
      "pillow                    6.2.0            py37hb68e598_0  \n",
      "pip                       19.2.3                   py37_0  \n",
      "pkginfo                   1.5.0.1                  py37_0  \n",
      "pluggy                    0.13.0                   py37_0  \n",
      "ply                       3.11                     py37_0  \n",
      "prometheus_client         0.7.1                      py_0  \n",
      "prompt_toolkit            2.0.10                     py_0  \n",
      "protobuf                  3.11.4           py37h0a44026_0  \n",
      "psutil                    5.6.3            py37h1de35cc_0  \n",
      "ptyprocess                0.6.0                    py37_0  \n",
      "py                        1.8.0                    py37_0  \n",
      "py-lief                   0.9.0            py37h1413db1_2  \n",
      "pycodestyle               2.5.0                    py37_0  \n",
      "pycosat                   0.6.3            py37h1de35cc_0  \n",
      "pycparser                 2.19                     py37_0  \n",
      "pycrypto                  2.6.1            py37h1de35cc_9  \n",
      "pycurl                    7.43.0.3         py37ha12b0ac_0  \n",
      "pyflakes                  2.1.1                    py37_0  \n",
      "pygments                  2.4.2                      py_0  \n",
      "pylint                    2.4.2                    py37_0  \n",
      "pyodbc                    4.0.27           py37h0a44026_0  \n",
      "pyopenssl                 19.0.0                   py37_0  \n",
      "pyparsing                 2.4.2                      py_0  \n",
      "pyqt                      5.9.2            py37h655552a_2  \n",
      "pyrsistent                0.15.4           py37h1de35cc_0  \n",
      "pysocks                   1.7.1                    py37_0  \n",
      "pytables                  3.5.2            py37h5bccee9_1  \n",
      "pytest                    5.2.1                    py37_0  \n",
      "pytest-arraydiff          0.3              py37h39e3cac_0  \n",
      "pytest-astropy            0.5.0                    py37_0  \n",
      "pytest-doctestplus        0.4.0                      py_0  \n",
      "pytest-openfiles          0.4.0                      py_0  \n",
      "pytest-remotedata         0.3.2                    py37_0  \n",
      "python                    3.7.4                h359304d_1  \n",
      "python-dateutil           2.8.0                    py37_0  \n",
      "python-libarchive-c       2.8                     py37_13  \n",
      "python.app                2                        py37_9  \n",
      "pytz                      2019.3                     py_0  \n",
      "pywavelets                1.0.3            py37h1d22016_1  \n",
      "pyyaml                    5.1.2            py37h1de35cc_0  \n",
      "pyzmq                     18.1.0           py37h0a44026_0  \n",
      "qt                        5.9.7                h468cd18_1  \n",
      "qtawesome                 0.6.0                      py_0  \n",
      "qtconsole                 4.5.5                      py_0  \n",
      "qtpy                      1.9.0                      py_0  \n",
      "readline                  7.0                  h1de35cc_5  \n",
      "requests                  2.22.0                   py37_0  \n",
      "ripgrep                   0.10.0               hc07d326_0  \n",
      "rope                      0.14.0                     py_0  \n",
      "ruamel_yaml               0.15.46          py37h1de35cc_0  \n",
      "scikit-image              0.15.0           py37h0a44026_0  \n",
      "scikit-learn              0.21.3           py37h27c97d8_0  \n",
      "scipy                     1.3.1            py37h1410ff5_0  \n",
      "seaborn                   0.9.0                    py37_0  \n",
      "send2trash                1.5.0                    py37_0  \n",
      "setuptools                41.4.0                   py37_0  \n",
      "simplegeneric             0.8.1                    py37_2  \n",
      "singledispatch            3.4.0.3                  py37_0  \n",
      "sip                       4.19.8           py37h0a44026_0  \n",
      "six                       1.12.0                   py37_0  \n",
      "snappy                    1.1.7                he62c110_3  \n",
      "snowballstemmer           2.0.0                      py_0  \n",
      "sortedcollections         1.1.2                    py37_0  \n",
      "sortedcontainers          2.1.0                    py37_0  \n",
      "soupsieve                 1.9.3                    py37_0  \n",
      "sphinx                    2.2.0                      py_0  \n",
      "sphinxcontrib             1.0                      py37_1  \n",
      "sphinxcontrib-applehelp   1.0.1                      py_0  \n",
      "sphinxcontrib-devhelp     1.0.1                      py_0  \n",
      "sphinxcontrib-htmlhelp    1.0.2                      py_0  \n",
      "sphinxcontrib-jsmath      1.0.1                      py_0  \n",
      "sphinxcontrib-qthelp      1.0.2                      py_0  \n",
      "sphinxcontrib-serializinghtml 1.1.3                      py_0  \n",
      "sphinxcontrib-websupport  1.1.2                      py_0  \n",
      "spyder                    3.3.6                    py37_0  \n",
      "spyder-kernels            0.5.2                    py37_0  \n",
      "sqlalchemy                1.3.9            py37h1de35cc_0  \n",
      "sqlite                    3.30.0               ha441bb4_0  \n",
      "statsmodels               0.10.1           py37h1d22016_0  \n",
      "sympy                     1.4                      py37_0  \n",
      "tbb                       2019.8               h04f5b5a_0  \n",
      "tblib                     1.4.0                      py_0  \n",
      "tensorboard               1.13.1           py37haf313ee_0  \n",
      "tensorflow                1.13.1          mkl_py37h70c3834_0  \n",
      "tensorflow-base           1.13.1          mkl_py37h66b1bf0_0  \n",
      "tensorflow-estimator      1.13.0                     py_0  \n",
      "termcolor                 1.1.0                    py37_1  \n",
      "terminado                 0.8.2                    py37_0  \n",
      "testpath                  0.4.2                    py37_0  \n",
      "tk                        8.6.8                ha441bb4_0  \n",
      "toolz                     0.10.0                     py_0  \n",
      "tornado                   6.0.3            py37h1de35cc_0  \n",
      "tqdm                      4.36.1                     py_0  \n",
      "traitlets                 4.3.3                    py37_0  \n",
      "unicodecsv                0.14.1                   py37_0  \n",
      "unixodbc                  2.3.7                h1de35cc_0  \n",
      "urllib3                   1.24.2                   py37_0  \n",
      "wcwidth                   0.1.7                    py37_0  \n",
      "webencodings              0.5.1                    py37_1  \n",
      "werkzeug                  0.16.0                     py_0  \n",
      "wheel                     0.33.6                   py37_0  \n",
      "widgetsnbextension        3.5.1                    py37_0  \n",
      "wrapt                     1.11.2           py37h1de35cc_0  \n",
      "wurlitzer                 1.0.3                    py37_0  \n",
      "xlrd                      1.2.0                    py37_0  \n",
      "xlsxwriter                1.2.1                      py_0  \n",
      "xlwings                   0.15.10                  py37_0  \n",
      "xlwt                      1.3.0                    py37_0  \n",
      "xz                        5.2.4                h1de35cc_4  \n",
      "yaml                      0.1.7                hc338f04_2  \n",
      "zeromq                    4.3.1                h0a44026_3  \n",
      "zict                      1.0.0                      py_0  \n",
      "zipp                      0.6.0                      py_0  \n",
      "zlib                      1.2.11               h1de35cc_3  \n",
      "zstd                      1.3.7                h5bba6e5_0  \n"
     ]
    }
   ],
   "source": [
    "!conda list"
   ]
  },
  {
   "cell_type": "code",
   "execution_count": 2,
   "metadata": {},
   "outputs": [
    {
     "name": "stdout",
     "output_type": "stream",
     "text": [
      "['london.png', 'london2.png', 'london - cópia.png', 'london2 - cópia.png']\n"
     ]
    }
   ],
   "source": [
    "import os\n",
    "\n",
    "images = []\n",
    "\n",
    "for root, dirs, files in os.walk(\"./img2\"):\n",
    "    for filename in files[0:4]:\n",
    "\n",
    "        images.append(filename)\n",
    "        #print(filename)\n",
    "\n",
    "print(images)"
   ]
  },
  {
   "cell_type": "code",
   "execution_count": 13,
   "outputs": [
    {
     "data": {
      "text/plain": "'./img/london(copy2).png'"
     },
     "execution_count": 13,
     "metadata": {},
     "output_type": "execute_result"
    }
   ],
   "source": [
    "from shutil import copyfile\n",
    "import os\n",
    "\n",
    "copyfile(\"./img2/london.png\", \"./img/london(copy2).png\")"
   ],
   "metadata": {
    "collapsed": false,
    "pycharm": {
     "name": "#%%\n"
    }
   }
  },
  {
   "cell_type": "markdown",
   "source": [
    "Joining Detected Objects Text Files"
   ],
   "metadata": {
    "collapsed": false,
    "pycharm": {
     "name": "#%% md\n",
     "is_executing": true
    }
   },
   "outputs": [
    {
     "ename": "NameError",
     "evalue": "name 'Joi' is not defined",
     "output_type": "error",
     "traceback": [
      "\u001B[0;31m---------------------------------------------------------------------------\u001B[0m",
      "\u001B[0;31mNameError\u001B[0m                                 Traceback (most recent call last)",
      "\u001B[0;32m<ipython-input-47-b24a8070d383>\u001B[0m in \u001B[0;36m<module>\u001B[0;34m\u001B[0m\n\u001B[0;32m----> 1\u001B[0;31m \u001B[0mJoi\u001B[0m\u001B[0;34m\u001B[0m\u001B[0;34m\u001B[0m\u001B[0m\n\u001B[0m\u001B[1;32m      2\u001B[0m \u001B[0;34m\u001B[0m\u001B[0m\n",
      "\u001B[0;31mNameError\u001B[0m: name 'Joi' is not defined"
     ]
    }
   ]
  },
  {
   "cell_type": "code",
   "execution_count": 24,
   "outputs": [],
   "source": [
    "import os\n",
    "\n",
    "string = \"\"\n",
    "\n",
    "excluded_list = {}\n",
    "\n",
    "files = [f for f in os.listdir('./yolotemp') if f != \".DS_Store\" and f != \"new\"]\n",
    "\n",
    "for filename1 in files:\n",
    "\n",
    "    if filename1.split('_')[0] not in excluded_list:\n",
    "\n",
    "        text_file = open('./yolotemp/new/' + filename1.split('_')[0] + \".txt\", \"w\")\n",
    "        #text_file.write(\"\")\n",
    "        excluded_list[filename1.split('_')[0]] = 0\n",
    "\n",
    "    string = \"\"\n",
    "\n",
    "    for filename2 in files:\n",
    "\n",
    "        if filename1.split('_')[0] == filename2.split('_')[0] and excluded_list[filename1.split('_')[0]] != 4:\n",
    "\n",
    "            string = string + '\\n' + open('./yolotemp/' + filename2, \"r\").read()\n",
    "\n",
    "            excluded_list[filename1.split('_')[0]] = excluded_list[filename1.split('_')[0]] + 1\n",
    "\n",
    "    text_file.write(string)"
   ],
   "metadata": {
    "collapsed": false,
    "pycharm": {
     "name": "#%%\n"
    }
   }
  },
  {
   "cell_type": "code",
   "execution_count": 17,
   "outputs": [],
   "source": [
    "file = open('./yolotemp/exp1.txt', 'r')\n",
    "hii = file.read()\n",
    "\n",
    "hiii = hii + '\\n' + \"sssss\"\n",
    "\n",
    "text_file = open(\"./yolotemp/exp11.txt\", \"w\")\n",
    "text_file.write(hiii)\n",
    "text_file.close()"
   ],
   "metadata": {
    "collapsed": false,
    "pycharm": {
     "name": "#%%\n"
    }
   }
  },
  {
   "cell_type": "code",
   "execution_count": 23,
   "outputs": [],
   "source": [
    "import os, glob\n",
    "for filename in glob.glob(\"yolotemp2/111_a.txt\"):\n",
    "    os.remove(filename)"
   ],
   "metadata": {
    "collapsed": false,
    "pycharm": {
     "name": "#%%\n"
    }
   }
  },
  {
   "cell_type": "markdown",
   "source": [
    "Select 1 Random Image per LSOA"
   ],
   "metadata": {
    "collapsed": false,
    "pycharm": {
     "name": "#%% md\n"
    }
   }
  },
  {
   "cell_type": "code",
   "execution_count": 3,
   "outputs": [
    {
     "name": "stderr",
     "output_type": "stream",
     "text": [
      "/Library/Frameworks/Python.framework/Versions/3.8/lib/python3.8/site-packages/IPython/core/interactiveshell.py:3057: DtypeWarning: Columns (55) have mixed types.Specify dtype option on import or set low_memory=False.\n",
      "  has_raised = await self.run_ast_nodes(code_ast.body, cell_name,\n"
     ]
    },
    {
     "name": "stdout",
     "output_type": "stream",
     "text": [
      "           lsoa11  img_id\n",
      "0       E01000677       1\n",
      "1       E01000675       5\n",
      "2       E01000674       8\n",
      "3       E01000677      10\n",
      "4       E01000675      15\n",
      "...           ...     ...\n",
      "128199  E01002438  132465\n",
      "128200  E01002438  132467\n",
      "128201  E01002438  132468\n",
      "128202  E01002438  132469\n",
      "128203  E01000290  132470\n",
      "\n",
      "[128204 rows x 2 columns]\n",
      "           lsoa11\n",
      "img_id           \n",
      "1       E01000677\n",
      "5       E01000675\n",
      "8       E01000674\n",
      "10      E01000677\n",
      "15      E01000675\n",
      "...           ...\n",
      "132465  E01002438\n",
      "132467  E01002438\n",
      "132468  E01002438\n",
      "132469  E01002438\n",
      "132470  E01000290\n",
      "\n",
      "[128204 rows x 1 columns]\n",
      "E01000677\n",
      "4833\n"
     ]
    }
   ],
   "source": [
    "import pandas as pd\n",
    "\n",
    "data = pd.read_csv (r'image_labels.csv')\n",
    "#print (df)\n",
    "\n",
    "df = pd.DataFrame(data, columns= ['lsoa11','img_id'])\n",
    "print(df)\n",
    "\n",
    "df_i = df.set_index('img_id')\n",
    "print(df_i)\n",
    "\n",
    "lsoa_list = df_i.lsoa11.unique()\n",
    "print(lsoa_list[0])\n",
    "\n",
    "img_ids = []\n",
    "print(len(lsoa_list))\n",
    "for lsoa_index in range(0, len(lsoa_list)):\n",
    "    img_ids.append(df_i.index[df['lsoa11'] == lsoa_list[lsoa_index]].tolist()[0])\n",
    "\n",
    "#print(img_ids)"
   ],
   "metadata": {
    "collapsed": false,
    "pycharm": {
     "name": "#%%\n"
    }
   }
  },
  {
   "cell_type": "markdown",
   "source": [
    "Generating Text File w/ 1 Image per LSOA"
   ],
   "metadata": {
    "collapsed": false,
    "pycharm": {
     "name": "#%% md\n"
    }
   }
  },
  {
   "cell_type": "code",
   "execution_count": 6,
   "outputs": [],
   "source": [
    "string = \"\"\n",
    "\n",
    "text_file = open('./yolotemp/list_images.txt', \"w\")\n",
    "\n",
    "for img_id in img_ids:\n",
    "\n",
    "    string = string + '\\n' + str(img_id) + \"_a\" + \".txt\"\n",
    "\n",
    "text_file.write(string)\n",
    "text_file.close()"
   ],
   "metadata": {
    "collapsed": false,
    "pycharm": {
     "name": "#%%\n"
    }
   }
  },
  {
   "cell_type": "markdown",
   "source": [
    "Selecting Text Files w/ Matching Name"
   ],
   "metadata": {
    "collapsed": false,
    "pycharm": {
     "name": "#%% md\n"
    }
   }
  },
  {
   "cell_type": "code",
   "execution_count": null,
   "outputs": [],
   "source": [
    "import os\n",
    "\n",
    "images = []\n",
    "\n",
    "for \n",
    "\n",
    "for root, dirs, files in os.walk(\"./img2\"):\n",
    "    for filename in files[0:4]:\n",
    "\n",
    "        images.append(filename)\n",
    "        #print(filename)\n",
    "\n",
    "print(images)"
   ],
   "metadata": {
    "collapsed": false,
    "pycharm": {
     "name": "#%%\n"
    }
   }
  },
  {
   "cell_type": "code",
   "execution_count": 1,
   "outputs": [
    {
     "name": "stdout",
     "output_type": "stream",
     "text": [
      "['5_a.png', '8_a.png', '35_a.png', '65_a.png', '66_a.png', '73_a.png', '77_a.png', '99_a.png', '101_a.png', '190_a.png', '203_a.png', '234_a.png', '243_a.png', '303_a.png', '342_a.png', '358_a.png', '394_a.png', '416_a.png', '458_a.png', '494_a.png', '545_a.png', '560_a.png', '562_a.png', '578_a.png', '594_a.png', '598_a.png', '635_a.png', '641_a.png', '656_a.png', '688_a.png', '720_a.png', '728_a.png', '743_a.png', '784_a.png', '802_a.png', '804_a.png', '807_a.png', '811_a.png', '812_a.png', '831_a.png', '928_a.png', '942_a.png', '943_a.png', '944_a.png', '950_a.png', '992_a.png', '1008_a.png', '1029_a.png', '1046_a.png', '1072_a.png', '1087_a.png', '1120_a.png', '1187_a.png', '1189_a.png', '1194_a.png', '1233_a.png', '1256_a.png', '1262_a.png', '1281_a.png', '1311_a.png', '1341_a.png', '1375_a.png', '1407_a.png', '1410_a.png', '1414_a.png', '1429_a.png', '1431_a.png', '1607_a.png', '1643_a.png', '1742_a.png', '1743_a.png', '1818_a.png', '1819_a.png', '1823_a.png', '1825_a.png', '1838_a.png', '1853_a.png', '1869_a.png', '1870_a.png', '1873_a.png', '1874_a.png', '1968_a.png', '1985_a.png', '2022_a.png', '2028_a.png', '2029_a.png', '2037_a.png', '2038_a.png', '2054_a.png', '2082_a.png', '2086_a.png', '2131_a.png', '2189_a.png', '2229_a.png', '2253_a.png', '2262_a.png', '2273_a.png', '2282_a.png', '2286_a.png', '2319_a.png', '2392_a.png', '2425_a.png', '2483_a.png', '2540_a.png', '2678_a.png', '2702_a.png', '2703_a.png', '2707_a.png', '2712_a.png', '2779_a.png', '2806_a.png', '2864_a.png', '2869_a.png', '2894_a.png', '2917_a.png', '3015_a.png', '3026_a.png', '3048_a.png', '3053_a.png', '3084_a.png', '3090_a.png', '3091_a.png', '3099_a.png', '3100_a.png', '3121_a.png', '3146_a.png', '3196_a.png', '3200_a.png', '3215_a.png', '3226_a.png', '3233_a.png', '3259_a.png', '3265_a.png', '3284_a.png', '3289_a.png', '3295_a.png', '3312_a.png', '3325_a.png', '3409_a.png', '3431_a.png', '3510_a.png', '3522_a.png', '3582_a.png', '3598_a.png', '3681_a.png', '3688_a.png', '3726_a.png', '3749_a.png', '3755_a.png', '3759_a.png', '3778_a.png', '3795_a.png', '3833_a.png', '3865_a.png', '3870_a.png', '3875_a.png', '3940_a.png', '4014_a.png', '4036_a.png', '4065_a.png', '4069_a.png', '4081_a.png', '4086_a.png', '4117_a.png', '4121_a.png', '4202_a.png', '4216_a.png', '4218_a.png', '4432_a.png', '4434_a.png', '4495_a.png', '4610_a.png', '4684_a.png', '4685_a.png', '4725_a.png', '4842_a.png', '4843_a.png', '4854_a.png', '4870_a.png', '4886_a.png', '4892_a.png', '4908_a.png', '4955_a.png', '4997_a.png', '5004_a.png', '5006_a.png', '5034_a.png', '5085_a.png', '5179_a.png', '5180_a.png', '5181_a.png', '5182_a.png', '5201_a.png', '5202_a.png', '5222_a.png', '5250_a.png', '5251_a.png', '5261_a.png', '5265_a.png', '5294_a.png', '5342_a.png', '5347_a.png', '5348_a.png', '5414_a.png', '5416_a.png', '5418_a.png', '5420_a.png', '5421_a.png', '5435_a.png', '5441_a.png', '5463_a.png', '5584_a.png', '5590_a.png', '5626_a.png', '5627_a.png', '5628_a.png', '5641_a.png', '5680_a.png', '5688_a.png', '5714_a.png', '5747_a.png', '5756_a.png', '5765_a.png', '5766_a.png', '5768_a.png', '5771_a.png', '5811_a.png', '5827_a.png', '5836_a.png', '5890_a.png', '5892_a.png', '5900_a.png', '5907_a.png', '5910_a.png', '5927_a.png', '5938_a.png', '5958_a.png', '5976_a.png', '5988_a.png', '6112_a.png', '6116_a.png', '6119_a.png', '6124_a.png', '6141_a.png', '6204_a.png', '6213_a.png', '6256_a.png', '6260_a.png', '6272_a.png', '6316_a.png', '6320_a.png', '6398_a.png', '6399_a.png', '6400_a.png', '6405_a.png', '6411_a.png', '6425_a.png', '6438_a.png', '6460_a.png', '6464_a.png', '6551_a.png', '6553_a.png', '6554_a.png', '6565_a.png', '6595_a.png', '6596_a.png', '6597_a.png', '6598_a.png', '6599_a.png', '6621_a.png', '6623_a.png', '6624_a.png', '6643_a.png', '6645_a.png', '6661_a.png', '6668_a.png', '6727_a.png', '6734_a.png', '6782_a.png', '6870_a.png', '6872_a.png', '6876_a.png', '6877_a.png', '6934_a.png', '6978_a.png', '7015_a.png', '7024_a.png', '7034_a.png', '7041_a.png', '7149_a.png', '7195_a.png', '7228_a.png', '7389_a.png', '7410_a.png', '7428_a.png', '7468_a.png', '7469_a.png', '7495_a.png', '7496_a.png', '7501_a.png', '7503_a.png', '7504_a.png', '7512_a.png', '7581_a.png', '7612_a.png', '7613_a.png', '7629_a.png', '7658_a.png', '7667_a.png', '7690_a.png', '7695_a.png', '7719_a.png', '7730_a.png', '7744_a.png', '7892_a.png', '8011_a.png', '8031_a.png', '8042_a.png', '8058_a.png', '8116_a.png', '8151_a.png', '8241_a.png', '8252_a.png', '8254_a.png', '8310_a.png', '8370_a.png', '8385_a.png', '8388_a.png', '8389_a.png', '8407_a.png', '8417_a.png', '8424_a.png', '8426_a.png', '8427_a.png', '8449_a.png', '8466_a.png', '8473_a.png', '8474_a.png', '8515_a.png', '8516_a.png', '8542_a.png', '8578_a.png', '8595_a.png', '8617_a.png', '8620_a.png', '8624_a.png', '8629_a.png', '8630_a.png', '8636_a.png', '8637_a.png', '8671_a.png', '8688_a.png', '8724_a.png', '8785_a.png', '8788_a.png', '8789_a.png', '8804_a.png', '8806_a.png', '8808_a.png', '8822_a.png', '8840_a.png', '8860_a.png', '8880_a.png', '8895_a.png', '8896_a.png', '8929_a.png', '9030_a.png', '9032_a.png', '9036_a.png', '9041_a.png', '9062_a.png', '9083_a.png', '9166_a.png', '9177_a.png', '9178_a.png', '9179_a.png', '9198_a.png', '9210_a.png', '9333_a.png', '9336_a.png', '9338_a.png', '9343_a.png', '9346_a.png', '9351_a.png', '9406_a.png', '9413_a.png', '9453_a.png', '9477_a.png', '9517_a.png', '9521_a.png', '9624_a.png', '9632_a.png', '9650_a.png', '9720_a.png', '9733_a.png', '9747_a.png', '9749_a.png', '9756_a.png', '9789_a.png', '9810_a.png', '9826_a.png', '9841_a.png', '9843_a.png', '9909_a.png', '9910_a.png', '9913_a.png', '9926_a.png', '9927_a.png', '9967_a.png', '9976_a.png', '9982_a.png', '9983_a.png', '10014_a.png', '10019_a.png', '10028_a.png', '10117_a.png', '10144_a.png', '10145_a.png', '10164_a.png', '10286_a.png', '10302_a.png', '10308_a.png', '10323_a.png', '10338_a.png', '10352_a.png', '10411_a.png', '10467_a.png', '10505_a.png', '10609_a.png', '10652_a.png', '10791_a.png', '10792_a.png', '10807_a.png', '10876_a.png', '10884_a.png', '10920_a.png', '10932_a.png', '10966_a.png', '10981_a.png', '11030_a.png', '11035_a.png', '11037_a.png', '11052_a.png', '11068_a.png', '11115_a.png', '11120_a.png', '11156_a.png', '11171_a.png', '11183_a.png', '11219_a.png', '11234_a.png', '11235_a.png', '11323_a.png', '11336_a.png', '11442_a.png', '11452_a.png', '11506_a.png', '11548_a.png', '11587_a.png', '11593_a.png', '11600_a.png', '11631_a.png', '11643_a.png', '11643_a.png', '11650_a.png', '11652_a.png', '11654_a.png', '11676_a.png', '11683_a.png', '11702_a.png', '11704_a.png', '11705_a.png', '11707_a.png', '11719_a.png', '11816_a.png', '11876_a.png', '11883_a.png', '11914_a.png', '11920_a.png', '11935_a.png', '11941_a.png', '11943_a.png', '11966_a.png', '11980_a.png', '11983_a.png', '12002_a.png', '12050_a.png', '12092_a.png', '12098_a.png', '12120_a.png', '12142_a.png', '12197_a.png', '12232_a.png', '12234_a.png', '12249_a.png', '12272_a.png', '12287_a.png', '12292_a.png', '12293_a.png', '12423_a.png', '12426_a.png', '12427_a.png', '12451_a.png', '12466_a.png', '12478_a.png', '12481_a.png', '12563_a.png', '12622_a.png', '12624_a.png', '12668_a.png', '12687_a.png', '12713_a.png', '12714_a.png', '12736_a.png', '12745_a.png', '12753_a.png', '12760_a.png', '12795_a.png', '12797_a.png', '12811_a.png', '12817_a.png', '12820_a.png', '12852_a.png', '12866_a.png', '12904_a.png', '12913_a.png', '12947_a.png', '12982_a.png', '13019_a.png', '13119_a.png', '13123_a.png', '13139_a.png', '13165_a.png', '13219_a.png', '13220_a.png', '13225_a.png', '13238_a.png', '13329_a.png', '13368_a.png', '13384_a.png', '13405_a.png', '13431_a.png', '13451_a.png', '13499_a.png', '13507_a.png', '13539_a.png', '13555_a.png', '13579_a.png', '13585_a.png', '13631_a.png', '13687_a.png', '13778_a.png', '13790_a.png', '13858_a.png', '13878_a.png', '13895_a.png', '13909_a.png', '13916_a.png', '13916_a.png', '13926_a.png', '13955_a.png', '13964_a.png', '13993_a.png', '14110_a.png', '14113_a.png', '14116_a.png', '14135_a.png', '14145_a.png', '14151_a.png', '14278_a.png', '14285_a.png', '14427_a.png', '14439_a.png', '14441_a.png', '14442_a.png', '14450_a.png', '14458_a.png', '14459_a.png', '14476_a.png', '14487_a.png', '14488_a.png', '14496_a.png', '14498_a.png', '14511_a.png', '14527_a.png', '14556_a.png', '14573_a.png', '14574_a.png', '14576_a.png', '14577_a.png', '14581_a.png', '14585_a.png', '14605_a.png', '14640_a.png', '14688_a.png', '14698_a.png', '14700_a.png', '14723_a.png', '14900_a.png', '14919_a.png', '14927_a.png', '14928_a.png', '14930_a.png', '14946_a.png', '14949_a.png', '14953_a.png', '15001_a.png', '15002_a.png', '15029_a.png', '15124_a.png', '15126_a.png', '15132_a.png', '15142_a.png', '15155_a.png', '15230_a.png', '15260_a.png', '15267_a.png', '15273_a.png', '15295_a.png', '15349_a.png', '15352_a.png', '15443_a.png', '15494_a.png', '15506_a.png', '15534_a.png', '15544_a.png', '15550_a.png', '15556_a.png', '15574_a.png', '15636_a.png', '15646_a.png', '15686_a.png', '15688_a.png', '15690_a.png', '15705_a.png', '15730_a.png', '15731_a.png', '15745_a.png', '15774_a.png', '15777_a.png', '15789_a.png', '15799_a.png', '15805_a.png', '15811_a.png', '15845_a.png', '15850_a.png', '15854_a.png', '15887_a.png', '15900_a.png', '15930_a.png', '15934_a.png', '15985_a.png', '15992_a.png', '15995_a.png', '15999_a.png', '16042_a.png', '16054_a.png', '16117_a.png', '16118_a.png', '16119_a.png', '16121_a.png', '16124_a.png', '16126_a.png', '16173_a.png', '16183_a.png', '16189_a.png', '16245_a.png', '16257_a.png', '16284_a.png', '16380_a.png', '16393_a.png', '16395_a.png', '16412_a.png', '16434_a.png', '16436_a.png', '16456_a.png', '16457_a.png', '16476_a.png', '16519_a.png', '16601_a.png', '16605_a.png', '16610_a.png', '16616_a.png', '16631_a.png', '16412_a.png', '16703_a.png', '16704_a.png', '16713_a.png', '16716_a.png', '16731_a.png', '16744_a.png', '16779_a.png', '16786_a.png', '16787_a.png', '16805_a.png', '16811_a.png', '16812_a.png', '16827_a.png', '16871_a.png', '16872_a.png', '16873_a.png', '16949_a.png', '16952_a.png', '16962_a.png', '16966_a.png', '16975_a.png', '16977_a.png', '17011_a.png', '17030_a.png', '17040_a.png', '17049_a.png', '17051_a.png', '17052_a.png', '17057_a.png', '17058_a.png', '17056_a.png', '17070_a.png', '17071_a.png', '17087_a.png', '17103_a.png', '17106_a.png', '17131_a.png', '17135_a.png', '17145_a.png', '17150_a.png', '17175_a.png', '17181_a.png', '17184_a.png', '17233_a.png', '17235_a.png', '17240_a.png', '17250_a.png', '17284_a.png', '17295_a.png', '17312_a.png', '17381_a.png', '17385_a.png', '17387_a.png', '17389_a.png', '17425_a.png', '17463_a.png', '17478_a.png', '17499_a.png', '17512_a.png', '17514_a.png', '17518_a.png', '17530_a.png', '17535_a.png', '17559_a.png', '17581_a.png', '17600_a.png', '17606_a.png', '17636_a.png', '17658_a.png', '17660_a.png', '17664_a.png', '17667_a.png', '17678_a.png', '17680_a.png', '17710_a.png', '17719_a.png', '17723_a.png', '17729_a.png', '17734_a.png', '17736_a.png', '17809_a.png', '17831_a.png', '17854_a.png', '17860_a.png', '17869_a.png', '17893_a.png', '17958_a.png', '18016_a.png', '18057_a.png', '18063_a.png', '18092_a.png', '18121_a.png', '18126_a.png', '18167_a.png', '18169_a.png', '18293_a.png', '18294_a.png', '18299_a.png', '18330_a.png', '18331_a.png', '18347_a.png', '18354_a.png', '18387_a.png', '18412_a.png', '18432_a.png', '18471_a.png', '18472_a.png', '18474_a.png', '18493_a.png', '18498_a.png', '18501_a.png', '18512_a.png', '18523_a.png', '18586_a.png', '18633_a.png', '18670_a.png', '18701_a.png', '18707_a.png', '18730_a.png', '18744_a.png', '18747_a.png', '18755_a.png', '18761_a.png', '18784_a.png', '18796_a.png', '18837_a.png', '18879_a.png', '18891_a.png', '18966_a.png', '18977_a.png', '18981_a.png', '19053_a.png', '19057_a.png', '19063_a.png', '19063_a.png', '19081_a.png', '19096_a.png', '19137_a.png', '19151_a.png', '19157_a.png', '19192_a.png', '19196_a.png', '19232_a.png', '19289_a.png', '19290_a.png', '19304_a.png', '19306_a.png', '19323_a.png', '19371_a.png', '19397_a.png', '19410_a.png', '19421_a.png', '19424_a.png', '19452_a.png', '19457_a.png', '19525_a.png', '19653_a.png', '19718_a.png', '19721_a.png', '19722_a.png', '19726_a.png', '19729_a.png', '19730_a.png', '19742_a.png', '19778_a.png', '19780_a.png', '19810_a.png', '19827_a.png', '19831_a.png', '19896_a.png', '19902_a.png', '19909_a.png', '19918_a.png', '19938_a.png', '19942_a.png', '19955_a.png', '19964_a.png', '19973_a.png', '20021_a.png', '20041_a.png', '20044_a.png', '20074_a.png', '20086_a.png', '20087_a.png', '20088_a.png', '20116_a.png', '20117_a.png', '20134_a.png', '20191_a.png', '20199_a.png', '20229_a.png', '20249_a.png', '20303_a.png', '20352_a.png', '20354_a.png', '20376_a.png', '20392_a.png', '20444_a.png', '20503_a.png', '20537_a.png', '20553_a.png', '20557_a.png', '20562_a.png', '20590_a.png', '20614_a.png', '20623_a.png', '20666_a.png', '20668_a.png', '20773_a.png', '20805_a.png', '20920_a.png', '20929_a.png', '20931_a.png', '20932_a.png', '20945_a.png', '20949_a.png', '20974_a.png', '21069_a.png', '21088_a.png', '21117_a.png', '21139_a.png', '21226_a.png', '21249_a.png', '21278_a.png', '21292_a.png', '21404_a.png', '21455_a.png', '21454_a.png', '21457_a.png', '21518_a.png', '21559_a.png', '21566_a.png', '21592_a.png', '21610_a.png', '21636_a.png', '21639_a.png', '21504_a.png', '21718_a.png', '21761_a.png', '21781_a.png', '21835_a.png', '21886_a.png', '21890_a.png', '21891_a.png', '21892_a.png', '21898_a.png', '21976_a.png', '21987_a.png', '22017_a.png', '22025_a.png', '22031_a.png', '22202_a.png', '22203_a.png', '22213_a.png', '22221_a.png', '22229_a.png', '22242_a.png', '22249_a.png', '22252_a.png', '22272_a.png', '22295_a.png', '22392_a.png', '22393_a.png', '22396_a.png', '22415_a.png', '22419_a.png', '22442_a.png', '22521_a.png', '22567_a.png', '22574_a.png', '22586_a.png', '22589_a.png', '22668_a.png', '22680_a.png', '22698_a.png', '22773_a.png', '22790_a.png', '22871_a.png', '22873_a.png', '22943_a.png', '22948_a.png', '22972_a.png', '22977_a.png', '23011_a.png', '23030_a.png', '23052_a.png', '23065_a.png', '23067_a.png', '23069_a.png', '23075_a.png', '23084_a.png', '23089_a.png', '23098_a.png', '23111_a.png', '23135_a.png', '23144_a.png', '23221_a.png', '23266_a.png', '23308_a.png', '23340_a.png', '23358_a.png', '23365_a.png', '23407_a.png', '23428_a.png', '23435_a.png', '23439_a.png', '23454_a.png', '23486_a.png', '23505_a.png', '23539_a.png', '23612_a.png', '23629_a.png', '23640_a.png', '23666_a.png', '23679_a.png', '23699_a.png', '23766_a.png', '23769_a.png', '23772_a.png', '23773_a.png', '23774_a.png', '23798_a.png', '23801_a.png', '23821_a.png', '23823_a.png', '23824_a.png', '23835_a.png', '23854_a.png', '23856_a.png', '23882_a.png', '23927_a.png', '23932_a.png', '23937_a.png', '23938_a.png', '23951_a.png', '23953_a.png', '23963_a.png', '23974_a.png', '23975_a.png', '23980_a.png', '23994_a.png', '24069_a.png', '24105_a.png', '24106_a.png', '24107_a.png', '24109_a.png', '24113_a.png', '24119_a.png', '24132_a.png', '24133_a.png', '24149_a.png', '24150_a.png', '24161_a.png', '24167_a.png', '24273_a.png', '24287_a.png', '24293_a.png', '24318_a.png', '24319_a.png', '24320_a.png', '24324_a.png', '24345_a.png', '24350_a.png', '24383_a.png', '24406_a.png', '24417_a.png', '24425_a.png', '24427_a.png', '24434_a.png', '24437_a.png', '24438_a.png', '24461_a.png', '24516_a.png', '24522_a.png', '24550_a.png', '24551_a.png', '24578_a.png', '24611_a.png', '24628_a.png', '24657_a.png', '24661_a.png', '24664_a.png', '24695_a.png', '24718_a.png', '24722_a.png', '24723_a.png', '24729_a.png', '24753_a.png', '24887_a.png', '24893_a.png', '24986_a.png', '25032_a.png', '25034_a.png', '25048_a.png', '25051_a.png', '25087_a.png', '25111_a.png', '25147_a.png', '25150_a.png', '25189_a.png', '25190_a.png', '25195_a.png', '25200_a.png', '25220_a.png', '25232_a.png', '25236_a.png', '25240_a.png', '25244_a.png', '25270_a.png', '25398_a.png', '25427_a.png', '25478_a.png', '25481_a.png', '25484_a.png', '25497_a.png', '25541_a.png', '25572_a.png', '25586_a.png', '25590_a.png', '25596_a.png', '25599_a.png', '25604_a.png', '25651_a.png', '25694_a.png', '25701_a.png', '25714_a.png', '25741_a.png', '25761_a.png', '25762_a.png', '25765_a.png', '25771_a.png', '25829_a.png', '25864_a.png', '25882_a.png', '25900_a.png', '25921_a.png', '25923_a.png', '25987_a.png', '26000_a.png', '26002_a.png', '26003_a.png', '26014_a.png', '26024_a.png', '26039_a.png', '26069_a.png', '26122_a.png', '26125_a.png', '26165_a.png', '26200_a.png', '26246_a.png', '26353_a.png', '26365_a.png', '26370_a.png', '26371_a.png', '26443_a.png', '26516_a.png', '26526_a.png', '26530_a.png', '26572_a.png', '26582_a.png', '26603_a.png', '26668_a.png', '26674_a.png', '26751_a.png', '26761_a.png', '26815_a.png', '26821_a.png', '26903_a.png', '26934_a.png', '26984_a.png', '27010_a.png', '27011_a.png', '27014_a.png', '27035_a.png', '27180_a.png', '27203_a.png', '27209_a.png', '27579_a.png', '28043_a.png', '28045_a.png', '28057_a.png', '28071_a.png', '28075_a.png', '28078_a.png', '28101_a.png', '28114_a.png', '28126_a.png', '28135_a.png', '28176_a.png', '28182_a.png', '28219_a.png', '28223_a.png', '28234_a.png', '28235_a.png', '28236_a.png', '28278_a.png', '28289_a.png', '28319_a.png', '28392_a.png', '28395_a.png', '28422_a.png', '28463_a.png', '28490_a.png', '28493_a.png', '28495_a.png', '28516_a.png', '28530_a.png', '28543_a.png', '28559_a.png', '28618_a.png', '28625_a.png', '28642_a.png', '28655_a.png', '28714_a.png', '28717_a.png', '28719_a.png', '28725_a.png', '28824_a.png', '28867_a.png', '28869_a.png', '29076_a.png', '29111_a.png', '29112_a.png', '29143_a.png', '29150_a.png', '29196_a.png', '29204_a.png', '29223_a.png', '29252_a.png', '29299_a.png', '29303_a.png', '29527_a.png', '29529_a.png', '29541_a.png', '29550_a.png', '29562_a.png', '29569_a.png', '29582_a.png', '29686_a.png', '29703_a.png', '29719_a.png', '29732_a.png', '29734_a.png', '29739_a.png', '29784_a.png', '29799_a.png', '29820_a.png', '29856_a.png', '29888_a.png', '29920_a.png', '29922_a.png', '29931_a.png', '29963_a.png', '29969_a.png', '29992_a.png', '29998_a.png', '30042_a.png', '30080_a.png', '30096_a.png', '30206_a.png', '30232_a.png', '30384_a.png', '30388_a.png', '30389_a.png', '30402_a.png', '30419_a.png', '30478_a.png', '30481_a.png', '30483_a.png', '30510_a.png', '30533_a.png', '30543_a.png', '30547_a.png', '30558_a.png', '30559_a.png', '30576_a.png', '30632_a.png', '30632_a.png', '30685_a.png', '30688_a.png', '30691_a.png', '30723_a.png', '30843_a.png', '30858_a.png', '30863_a.png', '30875_a.png', '30885_a.png', '30900_a.png', '31012_a.png', '31013_a.png', '31018_a.png', '31026_a.png', '31041_a.png', '31044_a.png', '31054_a.png', '31056_a.png', '31071_a.png', '31124_a.png', '31185_a.png', '31275_a.png', '31340_a.png', '31354_a.png', '31381_a.png', '31466_a.png', '31487_a.png', '31709_a.png', '31714_a.png', '31723_a.png', '31728_a.png', '31731_a.png', '31751_a.png', '31756_a.png', '31764_a.png', '31767_a.png', '31794_a.png', '31831_a.png', '31866_a.png', '31868_a.png', '31883_a.png', '31891_a.png', '31892_a.png', '31893_a.png', '31894_a.png', '31907_a.png', '31908_a.png', '31957_a.png', '31977_a.png', '31983_a.png', '32022_a.png', '32034_a.png', '32075_a.png', '32158_a.png', '32166_a.png', '32172_a.png', '32226_a.png', '32257_a.png', '32282_a.png', '32421_a.png', '32444_a.png', '32445_a.png', '32468_a.png', '32477_a.png', '32494_a.png', '32519_a.png', '32520_a.png', '32557_a.png', '32558_a.png', '32623_a.png', '32727_a.png', '32732_a.png', '32733_a.png', '32753_a.png', '32761_a.png', '32788_a.png', '32809_a.png', '32812_a.png', '32900_a.png', '32915_a.png', '32922_a.png', '32969_a.png', '32990_a.png', '33048_a.png', '33049_a.png', '33126_a.png', '33142_a.png', '33152_a.png', '33224_a.png', '33254_a.png', '33258_a.png', '33293_a.png', '33345_a.png', '33349_a.png', '33357_a.png', '33367_a.png', '33377_a.png', '33446_a.png', '33489_a.png', '33495_a.png', '33590_a.png', '33593_a.png', '33600_a.png', '33624_a.png', '33683_a.png', '33685_a.png', '33687_a.png', '33708_a.png', '33717_a.png', '33723_a.png', '33785_a.png', '33791_a.png', '33832_a.png', '33848_a.png', '33858_a.png', '33916_a.png', '33919_a.png', '33951_a.png', '33955_a.png', '33989_a.png', '34002_a.png', '34039_a.png', '34047_a.png', '34079_a.png', '34086_a.png', '34159_a.png', '34163_a.png', '34167_a.png', '34175_a.png', '34199_a.png', '34200_a.png', '34201_a.png', '34211_a.png', '34287_a.png', '34290_a.png', '34306_a.png', '34323_a.png', '34411_a.png', '34470_a.png', '34503_a.png', '34536_a.png', '34552_a.png', '34562_a.png', '34667_a.png', '34679_a.png', '34706_a.png', '34713_a.png', '34741_a.png', '34759_a.png', '34760_a.png', '34787_a.png', '34795_a.png', '34827_a.png', '34842_a.png', '34853_a.png', '34854_a.png', '34862_a.png', '34866_a.png', '34878_a.png', '34936_a.png', '34944_a.png', '34947_a.png', '34998_a.png', '35029_a.png', '35033_a.png', '35034_a.png', '35051_a.png', '35069_a.png', '35077_a.png', '35100_a.png', '35105_a.png', '35114_a.png', '35134_a.png', '35135_a.png', '35194_a.png', '35228_a.png', '35247_a.png', '35274_a.png', '35315_a.png', '35348_a.png', '35423_a.png', '35428_a.png', '35429_a.png', '35432_a.png', '35441_a.png', '35442_a.png', '35501_a.png', '35504_a.png', '35620_a.png', '35653_a.png', '35659_a.png', '35673_a.png', '35704_a.png', '35777_a.png', '35835_a.png', '35865_a.png', '35920_a.png', '35999_a.png', '36002_a.png', '36032_a.png', '36051_a.png', '36064_a.png', '36070_a.png', '36118_a.png', '36144_a.png', '36169_a.png', '36180_a.png', '36207_a.png', '36237_a.png', '36263_a.png', '36365_a.png', '36375_a.png', '36409_a.png', '36486_a.png', '36497_a.png', '36516_a.png', '36525_a.png', '36546_a.png', '36584_a.png', '36626_a.png', '36631_a.png', '36935_a.png', '36941_a.png', '36942_a.png', '36954_a.png', '37123_a.png', '37124_a.png', '37134_a.png', '37142_a.png', '37143_a.png', '37336_a.png', '37342_a.png', '37346_a.png', '37349_a.png', '37397_a.png', '37516_a.png', '37523_a.png', '37548_a.png', '37606_a.png', '37611_a.png', '37646_a.png', '37655_a.png', '37663_a.png', '37732_a.png', '37893_a.png', '37906_a.png', '37924_a.png', '37963_a.png', '37973_a.png', '38033_a.png', '38046_a.png', '38048_a.png', '38071_a.png', '38080_a.png', '38114_a.png', '38122_a.png', '38148_a.png', '38179_a.png', '38240_a.png', '38241_a.png', '38244_a.png', '38248_a.png', '38254_a.png', '38268_a.png', '38283_a.png', '38306_a.png', '38326_a.png', '38329_a.png', '38345_a.png', '38383_a.png', '38492_a.png', '38509_a.png', '38540_a.png', '38602_a.png', '38603_a.png', '38673_a.png', '38728_a.png', '38732_a.png', '38735_a.png', '38742_a.png', '38772_a.png', '38805_a.png', '38894_a.png', '38932_a.png', '38980_a.png', '38985_a.png', '39066_a.png', '39090_a.png', '39091_a.png', '39155_a.png', '39204_a.png', '39205_a.png', '39240_a.png', '39256_a.png', '39272_a.png', '39273_a.png', '39303_a.png', '39308_a.png', '39267_a.png', '39396_a.png', '39440_a.png', '39447_a.png', '39468_a.png', '39469_a.png', '39492_a.png', '39539_a.png', '39617_a.png', '39627_a.png', '39647_a.png', '39692_a.png', '39702_a.png', '39708_a.png', '39728_a.png', '39780_a.png', '39816_a.png', '39900_a.png', '39923_a.png', '39935_a.png', '39937_a.png', '39946_a.png', '39959_a.png', '39987_a.png', '39993_a.png', '39995_a.png', '40011_a.png', '40060_a.png', '40080_a.png', '40083_a.png', '40089_a.png', '40103_a.png', '40109_a.png', '40140_a.png', '40152_a.png', '40201_a.png', '40231_a.png', '40274_a.png', '40279_a.png', '40287_a.png', '40289_a.png', '40294_a.png', '40316_a.png', '40317_a.png', '40327_a.png', '40344_a.png', '40351_a.png', '40384_a.png', '40415_a.png', '40446_a.png', '40448_a.png', '40454_a.png', '40469_a.png', '40513_a.png', '40521_a.png', '40541_a.png', '40605_a.png', '40633_a.png', '40664_a.png', '40671_a.png', '40707_a.png', '40743_a.png', '40770_a.png', '40771_a.png', '40779_a.png', '40790_a.png', '40795_a.png', '40796_a.png', '40806_a.png', '40876_a.png', '40889_a.png', '40924_a.png', '40968_a.png', '40974_a.png', '40982_a.png', '41044_a.png', '41046_a.png', '41070_a.png', '41073_a.png', '41083_a.png', '41087_a.png', '41091_a.png', '41098_a.png', '41111_a.png', '41119_a.png', '41120_a.png', '41182_a.png', '41193_a.png', '41214_a.png', '41277_a.png', '41328_a.png', '41335_a.png', '41343_a.png', '41344_a.png', '41387_a.png', '41402_a.png', '41408_a.png', '41428_a.png', '41440_a.png', '41466_a.png', '41467_a.png', '41494_a.png', '41496_a.png', '41518_a.png', '41530_a.png', '41554_a.png', '41577_a.png', '41580_a.png', '41612_a.png', '41643_a.png', '41689_a.png', '41717_a.png', '41735_a.png', '41736_a.png', '41768_a.png', '41778_a.png', '41781_a.png', '41783_a.png', '41834_a.png', '41864_a.png', '41905_a.png', '41912_a.png', '41952_a.png', '41968_a.png', '41969_a.png', '41984_a.png', '42009_a.png', '42112_a.png', '42113_a.png', '42154_a.png', '42159_a.png', '42180_a.png', '42253_a.png', '42254_a.png', '42257_a.png', '42291_a.png', '42330_a.png', '42337_a.png', '42339_a.png', '42364_a.png', '42366_a.png', '42403_a.png', '42494_a.png', '42565_a.png', '42611_a.png', '42613_a.png', '42655_a.png', '42658_a.png', '42659_a.png', '42703_a.png', '42821_a.png', '42840_a.png', '42842_a.png', '42887_a.png', '42902_a.png', '42910_a.png', '42913_a.png', '42972_a.png', '42984_a.png', '43080_a.png', '43083_a.png', '43084_a.png', '43140_a.png', '43153_a.png', '43158_a.png', '43183_a.png', '43276_a.png', '43293_a.png', '43300_a.png', '43302_a.png', '43324_a.png', '43354_a.png', '43366_a.png', '43383_a.png', '43428_a.png', '43511_a.png', '43565_a.png', '43579_a.png', '43776_a.png', '43811_a.png', '43831_a.png', '43858_a.png', '43859_a.png', '43912_a.png', '43946_a.png', '43967_a.png', '43987_a.png', '43989_a.png', '44007_a.png', '44032_a.png', '44055_a.png', '44118_a.png', '44137_a.png', '44141_a.png', '44166_a.png', '44170_a.png', '44217_a.png', '44218_a.png', '44223_a.png', '44225_a.png', '44226_a.png', '44231_a.png', '44234_a.png', '44238_a.png', '44246_a.png', '44255_a.png', '44261_a.png', '44301_a.png', '44304_a.png', '44310_a.png', '44312_a.png', '44348_a.png', '44411_a.png', '44454_a.png', '44467_a.png', '44606_a.png', '44617_a.png', '44620_a.png', '44625_a.png', '44633_a.png', '44634_a.png', '44714_a.png', '44717_a.png', '44732_a.png', '44739_a.png', '44760_a.png', '44775_a.png', '44813_a.png', '44817_a.png', '44863_a.png', '44917_a.png', '44932_a.png', '44994_a.png', '44997_a.png', '45003_a.png', '45012_a.png', '45057_a.png', '45063_a.png', '45118_a.png', '45121_a.png', '45132_a.png', '45140_a.png', '45166_a.png', '45216_a.png', '45268_a.png', '45271_a.png', '45273_a.png', '45276_a.png', '45361_a.png', '45365_a.png', '45408_a.png', '45430_a.png', '45445_a.png', '45450_a.png', '45501_a.png', '45508_a.png', '45509_a.png', '45533_a.png', '45552_a.png', '45624_a.png', '45643_a.png', '45704_a.png', '45735_a.png', '45742_a.png', '45743_a.png', '45765_a.png', '45783_a.png', '45881_a.png', '45890_a.png', '45893_a.png', '45912_a.png', '45924_a.png', '45987_a.png', '45992_a.png', '46022_a.png', '46025_a.png', '46073_a.png', '46178_a.png', '46179_a.png', '46182_a.png', '46244_a.png', '46246_a.png', '46250_a.png', '46396_a.png', '46425_a.png', '46439_a.png', '46441_a.png', '46449_a.png', '46551_a.png', '46562_a.png', '46563_a.png', '46567_a.png', '46576_a.png', '46639_a.png', '46640_a.png', '46670_a.png', '46747_a.png', '46762_a.png', '46766_a.png', '46913_a.png', '46915_a.png', '46916_a.png', '46917_a.png', '46946_a.png', '46947_a.png', '46970_a.png', '46971_a.png', '47005_a.png', '47023_a.png', '47037_a.png', '47053_a.png', '47098_a.png', '47100_a.png', '47122_a.png', '47135_a.png', '47184_a.png', '47262_a.png', '47263_a.png', '47280_a.png', '47324_a.png', '47335_a.png', '47363_a.png', '47365_a.png', '47368_a.png', '47325_a.png', '47399_a.png', '47475_a.png', '47476_a.png', '47479_a.png', '47507_a.png', '47541_a.png', '47557_a.png', '47571_a.png', '47619_a.png', '47678_a.png', '47708_a.png', '47742_a.png', '47763_a.png', '47765_a.png', '47799_a.png', '47923_a.png', '47925_a.png', '47926_a.png', '48045_a.png', '48056_a.png', '48060_a.png', '48085_a.png', '48086_a.png', '48112_a.png', '48211_a.png', '48365_a.png', '48425_a.png', '48492_a.png', '48493_a.png', '48496_a.png', '48516_a.png', '48527_a.png', '48529_a.png', '48561_a.png', '48574_a.png', '48622_a.png', '48625_a.png', '48629_a.png', '48665_a.png', '48666_a.png', '48671_a.png', '48762_a.png', '48765_a.png', '48766_a.png', '48774_a.png', '48778_a.png', '48843_a.png', '48899_a.png', '48900_a.png', '48908_a.png', '48911_a.png', '48924_a.png', '48930_a.png', '48937_a.png', '48967_a.png', '49017_a.png', '49073_a.png', '49083_a.png', '49092_a.png', '49098_a.png', '49106_a.png', '49109_a.png', '49260_a.png', '49262_a.png', '49270_a.png', '49271_a.png', '49284_a.png', '49289_a.png', '49425_a.png', '49430_a.png', '49431_a.png', '49440_a.png', '49441_a.png', '49453_a.png', '49461_a.png', '49495_a.png', '49572_a.png', '49574_a.png', '49580_a.png', '49589_a.png', '49593_a.png', '49615_a.png', '49618_a.png', '49623_a.png', '49635_a.png', '49756_a.png', '49881_a.png', '49911_a.png', '50007_a.png', '50008_a.png', '50009_a.png', '50011_a.png', '50012_a.png', '50019_a.png', '50027_a.png', '50055_a.png', '50064_a.png', '50134_a.png', '50147_a.png', '50152_a.png', '50179_a.png', '50182_a.png', '50187_a.png', '50198_a.png', '50229_a.png', '50241_a.png', '50284_a.png', '50291_a.png', '50389_a.png', '50391_a.png', '50399_a.png', '50401_a.png', '50460_a.png', '50483_a.png', '50496_a.png', '50500_a.png', '50505_a.png', '50530_a.png', '50625_a.png', '50657_a.png', '50679_a.png', '50801_a.png', '50815_a.png', '50860_a.png', '50916_a.png', '51008_a.png', '51011_a.png', '51017_a.png', '51026_a.png', '51034_a.png', '51050_a.png', '51056_a.png', '51060_a.png', '51066_a.png', '51086_a.png', '51141_a.png', '51142_a.png', '51143_a.png', '51147_a.png', '51148_a.png', '51159_a.png', '51163_a.png', '51183_a.png', '51214_a.png', '51217_a.png', '51219_a.png', '51224_a.png', '51311_a.png', '51330_a.png', '51359_a.png', '51440_a.png', '51444_a.png', '51446_a.png', '51450_a.png', '51476_a.png', '51486_a.png', '51490_a.png', '51494_a.png', '51525_a.png', '51605_a.png', '51607_a.png', '51611_a.png', '51613_a.png', '51615_a.png', '51630_a.png', '51644_a.png', '51675_a.png', '51714_a.png', '51719_a.png', '51748_a.png', '51750_a.png', '51756_a.png', '51757_a.png', '51772_a.png', '51794_a.png', '51801_a.png', '51929_a.png', '51931_a.png', '51941_a.png', '51949_a.png', '51971_a.png', '51972_a.png', '52096_a.png', '52152_a.png', '52178_a.png', '52198_a.png', '52248_a.png', '52261_a.png', '52335_a.png', '52343_a.png', '52420_a.png', '52430_a.png', '52497_a.png', '52499_a.png', '52502_a.png', '52520_a.png', '52527_a.png', '52551_a.png', '52557_a.png', '52574_a.png', '52640_a.png', '52679_a.png', '52681_a.png', '52709_a.png', '52728_a.png', '52730_a.png', '52752_a.png', '52815_a.png', '52899_a.png', '52903_a.png', '52919_a.png', '52922_a.png', '52926_a.png', '52944_a.png', '52954_a.png', '52980_a.png', '53056_a.png', '53076_a.png', '53108_a.png', '53112_a.png', '53178_a.png', '53183_a.png', '53190_a.png', '53192_a.png', '53200_a.png', '53374_a.png', '53392_a.png', '53394_a.png', '53403_a.png', '53451_a.png', '53471_a.png', '53476_a.png', '53484_a.png', '53502_a.png', '53519_a.png', '53547_a.png', '53576_a.png', '53580_a.png', '53604_a.png', '53606_a.png', '53630_a.png', '53635_a.png', '53690_a.png', '53751_a.png', '53837_a.png', '53842_a.png', '53847_a.png', '53850_a.png', '53852_a.png', '53860_a.png', '53864_a.png', '53866_a.png', '53869_a.png', '53882_a.png', '53901_a.png', '53920_a.png', '53926_a.png', '53940_a.png', '53987_a.png', '54026_a.png', '54029_a.png', '54051_a.png', '54055_a.png', '54120_a.png', '54122_a.png', '54160_a.png', '54162_a.png', '54164_a.png', '54180_a.png', '54181_a.png', '54184_a.png', '54187_a.png', '54204_a.png', '54232_a.png', '54266_a.png', '54337_a.png', '54344_a.png', '54348_a.png', '54362_a.png', '54364_a.png', '54370_a.png', '54377_a.png', '54397_a.png', '54419_a.png', '54479_a.png', '54487_a.png', '54526_a.png', '54528_a.png', '54531_a.png', '54557_a.png', '54661_a.png', '54771_a.png', '54787_a.png', '54789_a.png', '54819_a.png', '54820_a.png', '54833_a.png', '54979_a.png', '55009_a.png', '55186_a.png', '55193_a.png', '55204_a.png', '55256_a.png', '55374_a.png', '55378_a.png', '55450_a.png', '55474_a.png', '55479_a.png', '55651_a.png', '55653_a.png', '55668_a.png', '55682_a.png', '55683_a.png', '55706_a.png', '55710_a.png', '55711_a.png', '55725_a.png', '55729_a.png', '55827_a.png', '55838_a.png', '55875_a.png', '55963_a.png', '55989_a.png', '55998_a.png', '56003_a.png', '56023_a.png', '56088_a.png', '56089_a.png', '56132_a.png', '56232_a.png', '56234_a.png', '56245_a.png', '56258_a.png', '56261_a.png', '56262_a.png', '56294_a.png', '56301_a.png', '56349_a.png', '56413_a.png', '56415_a.png', '56430_a.png', '56487_a.png', '56562_a.png', '56571_a.png', '56580_a.png', '56609_a.png', '56734_a.png', '56735_a.png', '56736_a.png', '56742_a.png', '56748_a.png', '56757_a.png', '56857_a.png', '56895_a.png', '56902_a.png', '56903_a.png', '56905_a.png', '56911_a.png', '56920_a.png', '56921_a.png', '56931_a.png', '56937_a.png', '56942_a.png', '56946_a.png', '56980_a.png', '57087_a.png', '57095_a.png', '57096_a.png', '57107_a.png', '57182_a.png', '57197_a.png', '57202_a.png', '57224_a.png', '57244_a.png', '57266_a.png', '57313_a.png', '57321_a.png', '57381_a.png', '57384_a.png', '57387_a.png', '57391_a.png', '57432_a.png', '57439_a.png', '57475_a.png', '57477_a.png', '57553_a.png', '57558_a.png', '57599_a.png', '57607_a.png', '57700_a.png', '57701_a.png', '57718_a.png', '57820_a.png', '57821_a.png', '57829_a.png', '57832_a.png', '57834_a.png', '57846_a.png', '57847_a.png', '57950_a.png', '58011_a.png', '58070_a.png', '58075_a.png', '58076_a.png', '58080_a.png', '58088_a.png', '58106_a.png', '58195_a.png', '58218_a.png', '58219_a.png', '58234_a.png', '58239_a.png', '58438_a.png', '58439_a.png', '58445_a.png', '58472_a.png', '58478_a.png', '58481_a.png', '58639_a.png', '58639_a.png', '58663_a.png', '58685_a.png', '58732_a.png', '58770_a.png', '58842_a.png', '58844_a.png', '58850_a.png', '58867_a.png', '58868_a.png', '58892_a.png', '58901_a.png', '58908_a.png', '58923_a.png', '58983_a.png', '58998_a.png', '59035_a.png', '59248_a.png', '59251_a.png', '59255_a.png', '59256_a.png', '59263_a.png', '59290_a.png', '59293_a.png', '59346_a.png', '59354_a.png', '59448_a.png', '59466_a.png', '59473_a.png', '59485_a.png', '59508_a.png', '59510_a.png', '59624_a.png', '59770_a.png', '59773_a.png', '59783_a.png', '59790_a.png', '59796_a.png', '59811_a.png', '59814_a.png', '59844_a.png', '60020_a.png', '60022_a.png', '60023_a.png', '60029_a.png', '60030_a.png', '60038_a.png', '60055_a.png', '60122_a.png', '60153_a.png', '60154_a.png', '60167_a.png', '60209_a.png', '60271_a.png', '60310_a.png', '60321_a.png', '60323_a.png', '60324_a.png', '60326_a.png', '60330_a.png', '60331_a.png', '60351_a.png', '60405_a.png', '60437_a.png', '60451_a.png', '60477_a.png', '60484_a.png', '60485_a.png', '60488_a.png', '60490_a.png', '60496_a.png', '60518_a.png', '60535_a.png', '60551_a.png', '60634_a.png', '60657_a.png', '60663_a.png', '60736_a.png', '60754_a.png', '60755_a.png', '60763_a.png', '60765_a.png', '60795_a.png', '60822_a.png', '60823_a.png', '60871_a.png', '60905_a.png', '61007_a.png', '61032_a.png', '61035_a.png', '61038_a.png', '61042_a.png', '61055_a.png', '61063_a.png', '61099_a.png', '61102_a.png', '61104_a.png', '61127_a.png', '61154_a.png', '61180_a.png', '61211_a.png', '61223_a.png', '61224_a.png', '61225_a.png', '61240_a.png', '61247_a.png', '61265_a.png', '61361_a.png', '61363_a.png', '61365_a.png', '61371_a.png', '61377_a.png', '61415_a.png', '61419_a.png', '61456_a.png', '61507_a.png', '61509_a.png', '61522_a.png', '61525_a.png', '61526_a.png', '61538_a.png', '61549_a.png', '61557_a.png', '61584_a.png', '61629_a.png', '61644_a.png', '61649_a.png', '61652_a.png', '61655_a.png', '61680_a.png', '61707_a.png', '61720_a.png', '61775_a.png', '61784_a.png', '61789_a.png', '61806_a.png', '61829_a.png', '61830_a.png', '61881_a.png', '62005_a.png', '62011_a.png', '62024_a.png', '62078_a.png', '62101_a.png', '62124_a.png', '62147_a.png', '62233_a.png', '62263_a.png', '62379_a.png', '62547_a.png', '62550_a.png', '62562_a.png', '62564_a.png', '62602_a.png', '62627_a.png', '62670_a.png', '62676_a.png', '62801_a.png', '62846_a.png', '62915_a.png', '62917_a.png', '62980_a.png', '62988_a.png', '63001_a.png', '63022_a.png', '63083_a.png', '63086_a.png', '63104_a.png', '63128_a.png', '63137_a.png', '63161_a.png', '63167_a.png', '63242_a.png', '63245_a.png', '63262_a.png', '63281_a.png', '63300_a.png', '63398_a.png', '63416_a.png', '63426_a.png', '63512_a.png', '63540_a.png', '63546_a.png', '63553_a.png', '63555_a.png', '63581_a.png', '63606_a.png', '63627_a.png', '63644_a.png', '63680_a.png', '63692_a.png', '63693_a.png', '63710_a.png', '63741_a.png', '63742_a.png', '63812_a.png', '63832_a.png', '63974_a.png', '63978_a.png', '64000_a.png', '64011_a.png', '64027_a.png', '64161_a.png', '64164_a.png', '64173_a.png', '64245_a.png', '64300_a.png', '64318_a.png', '64326_a.png', '64380_a.png', '64387_a.png', '64434_a.png', '64441_a.png', '64447_a.png', '64452_a.png', '64472_a.png', '64482_a.png', '64486_a.png', '64493_a.png', '64507_a.png', '64553_a.png', '64611_a.png', '64612_a.png', '64622_a.png', '64623_a.png', '64645_a.png', '64649_a.png', '64715_a.png', '64716_a.png', '64744_a.png', '64752_a.png', '64755_a.png', '64790_a.png', '64874_a.png', '64943_a.png', '64992_a.png', '64993_a.png', '64998_a.png', '65012_a.png', '65020_a.png', '65025_a.png', '65049_a.png', '65115_a.png', '65116_a.png', '65121_a.png', '65244_a.png', '65250_a.png', '65256_a.png', '65261_a.png', '65282_a.png', '65336_a.png', '65356_a.png', '65386_a.png', '65388_a.png', '65533_a.png', '65539_a.png', '65549_a.png', '65556_a.png', '65562_a.png', '65609_a.png', '65639_a.png', '65724_a.png', '65836_a.png', '65839_a.png', '65848_a.png', '65849_a.png', '65976_a.png', '65990_a.png', '66003_a.png', '66023_a.png', '66146_a.png', '66203_a.png', '66233_a.png', '66344_a.png', '66352_a.png', '66440_a.png', '66446_a.png', '66514_a.png', '66517_a.png', '66563_a.png', '66577_a.png', '66612_a.png', '66614_a.png', '66622_a.png', '66729_a.png', '66731_a.png', '66737_a.png', '66752_a.png', '66758_a.png', '66854_a.png', '66857_a.png', '66858_a.png', '66861_a.png', '66875_a.png', '66885_a.png', '66888_a.png', '66919_a.png', '66928_a.png', '66997_a.png', '66999_a.png', '67000_a.png', '67026_a.png', '67123_a.png', '67137_a.png', '67155_a.png', '67167_a.png', '67173_a.png', '67326_a.png', '67345_a.png', '67446_a.png', '67449_a.png', '67481_a.png', '67555_a.png', '67559_a.png', '67562_a.png', '67629_a.png', '67685_a.png', '67905_a.png', '67967_a.png', '67994_a.png', '68019_a.png', '68065_a.png', '68155_a.png', '68156_a.png', '68180_a.png', '68223_a.png', '68228_a.png', '68245_a.png', '68328_a.png', '68341_a.png', '68374_a.png', '68491_a.png', '68499_a.png', '68502_a.png', '68510_a.png', '68527_a.png', '68529_a.png', '68558_a.png', '68652_a.png', '68663_a.png', '68665_a.png', '68671_a.png', '68706_a.png', '68716_a.png', '68732_a.png', '68735_a.png', '68964_a.png', '68982_a.png', '68994_a.png', '69127_a.png', '69144_a.png', '69145_a.png', '69215_a.png', '69238_a.png', '69249_a.png', '69394_a.png', '69412_a.png', '69418_a.png', '69526_a.png', '69529_a.png', '69536_a.png', '69553_a.png', '69558_a.png', '69571_a.png', '69576_a.png', '69579_a.png', '69631_a.png', '69688_a.png', '69729_a.png', '69735_a.png', '69742_a.png', '69743_a.png', '69749_a.png', '69768_a.png', '69769_a.png', '69770_a.png', '69799_a.png', '69830_a.png', '69839_a.png', '69842_a.png', '69875_a.png', '69913_a.png', '69916_a.png', '69921_a.png', '69925_a.png', '69935_a.png', '69954_a.png', '69957_a.png', '69986_a.png', '69995_a.png', '70038_a.png', '70051_a.png', '70090_a.png', '70091_a.png', '70093_a.png', '70094_a.png', '70097_a.png', '70101_a.png', '70114_a.png', '70126_a.png', '70128_a.png', '70179_a.png', '70188_a.png', '70272_a.png', '70272_a.png', '70281_a.png', '70292_a.png', '70313_a.png', '70336_a.png', '70338_a.png', '70429_a.png', '70438_a.png', '70456_a.png', '70459_a.png', '70465_a.png', '70485_a.png', '70512_a.png', '70572_a.png', '70579_a.png', '70599_a.png', '70602_a.png', '70621_a.png', '70629_a.png', '70638_a.png', '70640_a.png', '70693_a.png', '70714_a.png', '70751_a.png', '70752_a.png', '70768_a.png', '70776_a.png', '70779_a.png', '70787_a.png', '70878_a.png', '70894_a.png', '70897_a.png', '70952_a.png', '70954_a.png', '70960_a.png', '70970_a.png', '71024_a.png', '71030_a.png', '71040_a.png', '71072_a.png', '71089_a.png', '71174_a.png', '71180_a.png', '71190_a.png', '71200_a.png', '71217_a.png', '71219_a.png', '71221_a.png', '71230_a.png', '71287_a.png', '71317_a.png', '71321_a.png', '71331_a.png', '71333_a.png', '71472_a.png', '71473_a.png', '71475_a.png', '71477_a.png', '71480_a.png', '71568_a.png', '71635_a.png', '71640_a.png', '71746_a.png', '71750_a.png', '71751_a.png', '71770_a.png', '71771_a.png', '71783_a.png', '71817_a.png', '71827_a.png', '71968_a.png', '71988_a.png', '72004_a.png', '72007_a.png', '72051_a.png', '72055_a.png', '72173_a.png', '72174_a.png', '72185_a.png', '72195_a.png', '72208_a.png', '72311_a.png', '72352_a.png', '72398_a.png', '72469_a.png', '72491_a.png', '72496_a.png', '72531_a.png', '72593_a.png', '72619_a.png', '72714_a.png', '72717_a.png', '72747_a.png', '72765_a.png', '72851_a.png', '72911_a.png', '72913_a.png', '72918_a.png', '72951_a.png', '72955_a.png', '72998_a.png', '73004_a.png', '73020_a.png', '73029_a.png', '73049_a.png', '73052_a.png', '72985_a.png', '73083_a.png', '73179_a.png', '73304_a.png', '73330_a.png', '73370_a.png', '73500_a.png', '73507_a.png', '73516_a.png', '73522_a.png', '73530_a.png', '73536_a.png', '73538_a.png', '73606_a.png', '73609_a.png', '73627_a.png', '73706_a.png', '73842_a.png', '73844_a.png', '73846_a.png', '73851_a.png', '73863_a.png', '73864_a.png', '73883_a.png', '73896_a.png', '74016_a.png', '74025_a.png', '74040_a.png', '74062_a.png', '74064_a.png', '74135_a.png', '74173_a.png', '74178_a.png', '74195_a.png', '74326_a.png', '74330_a.png', '74344_a.png', '74350_a.png', '74380_a.png', '74391_a.png', '74428_a.png', '74431_a.png', '74501_a.png', '74582_a.png', '74583_a.png', '74729_a.png', '74782_a.png', '74785_a.png', '74791_a.png', '74793_a.png', '74794_a.png', '74796_a.png', '74800_a.png', '74920_a.png', '74947_a.png', '74949_a.png', '74952_a.png', '74953_a.png', '74957_a.png', '74959_a.png', '74964_a.png', '74966_a.png', '74967_a.png', '75044_a.png', '75159_a.png', '75163_a.png', '75167_a.png', '75178_a.png', '75300_a.png', '75306_a.png', '75327_a.png', '75330_a.png', '75346_a.png', '75347_a.png', '75465_a.png', '75476_a.png', '75514_a.png', '75621_a.png', '75631_a.png', '70345_a.png', '75649_a.png', '75667_a.png', '75767_a.png', '75768_a.png', '75774_a.png', '75778_a.png', '75780_a.png', '75824_a.png', '75867_a.png', '75887_a.png', '75890_a.png', '75891_a.png', '75983_a.png', '75993_a.png', '75995_a.png', '75996_a.png', '76003_a.png', '76044_a.png', '76049_a.png', '76120_a.png', '76122_a.png', '76128_a.png', '76132_a.png', '76166_a.png', '76167_a.png', '76172_a.png', '76189_a.png', '76194_a.png', '76296_a.png', '76313_a.png', '76362_a.png', '76386_a.png', '76468_a.png', '76475_a.png', '76476_a.png', '76488_a.png', '76490_a.png', '76493_a.png', '76494_a.png', '76498_a.png', '76540_a.png', '76549_a.png', '76613_a.png', '76616_a.png', '76645_a.png', '76657_a.png', '76659_a.png', '76679_a.png', '76729_a.png', '76733_a.png', '76742_a.png', '76759_a.png', '76766_a.png', '76775_a.png', '76778_a.png', '76832_a.png', '76832_a.png', '77009_a.png', '77013_a.png', '77018_a.png', '77023_a.png', '77027_a.png', '77036_a.png', '77104_a.png', '77173_a.png', '77188_a.png', '77191_a.png', '77192_a.png', '77193_a.png', '77201_a.png', '77203_a.png', '77243_a.png', '77338_a.png', '77341_a.png', '77355_a.png', '77510_a.png', '77519_a.png', '77520_a.png', '77524_a.png', '77526_a.png', '77528_a.png', '77536_a.png', '77546_a.png', '77560_a.png', '77654_a.png', '77692_a.png', '77762_a.png', '77833_a.png', '77835_a.png', '77838_a.png', '77848_a.png', '77863_a.png', '77876_a.png', '77880_a.png', '77885_a.png', '77902_a.png', '77910_a.png', '77943_a.png', '77944_a.png', '77993_a.png', '77996_a.png', '78000_a.png', '78031_a.png', '78036_a.png', '78060_a.png', '78062_a.png', '78107_a.png', '78137_a.png', '78234_a.png', '78235_a.png', '78282_a.png', '78286_a.png', '78295_a.png', '78304_a.png', '78308_a.png', '78339_a.png', '78343_a.png', '78369_a.png', '78377_a.png', '78455_a.png', '78480_a.png', '78487_a.png', '78505_a.png', '78506_a.png', '78529_a.png', '78538_a.png', '78544_a.png', '78612_a.png', '78630_a.png', '78631_a.png', '78635_a.png', '78639_a.png', '78671_a.png', '78711_a.png', '78714_a.png', '78781_a.png', '78807_a.png', '78821_a.png', '78857_a.png', '78858_a.png', '78860_a.png', '78861_a.png', '78864_a.png', '78868_a.png', '78872_a.png', '78900_a.png', '78920_a.png', '78927_a.png', '78934_a.png', '78948_a.png', '78965_a.png', '79003_a.png', '79042_a.png', '79048_a.png', '79058_a.png', '79071_a.png', '79073_a.png', '79134_a.png', '79142_a.png', '79158_a.png', '79175_a.png', '79180_a.png', '79189_a.png', '79195_a.png', '79198_a.png', '79199_a.png', '79240_a.png', '79325_a.png', '79329_a.png', '79332_a.png', '79335_a.png', '79339_a.png', '79437_a.png', '79492_a.png', '79496_a.png', '79501_a.png', '79518_a.png', '79519_a.png', '79555_a.png', '79607_a.png', '79697_a.png', '79701_a.png', '79704_a.png', '79705_a.png', '79712_a.png', '79830_a.png', '79832_a.png', '79859_a.png', '79868_a.png', '79873_a.png', '79905_a.png', '79984_a.png', '79986_a.png', '79982_a.png', '79992_a.png', '80180_a.png', '80185_a.png', '80186_a.png', '80219_a.png', '80225_a.png', '80257_a.png', '80261_a.png', '80266_a.png', '80279_a.png', '80312_a.png', '80319_a.png', '80345_a.png', '80507_a.png', '80521_a.png', '80663_a.png', '80664_a.png', '80665_a.png', '80671_a.png', '80686_a.png', '80747_a.png', '80778_a.png', '80847_a.png', '80890_a.png', '80914_a.png', '80968_a.png', '80972_a.png', '81101_a.png', '81105_a.png', '81106_a.png', '81116_a.png', '81117_a.png', '81120_a.png', '81130_a.png', '81145_a.png', '81164_a.png', '81208_a.png', '81284_a.png', '81335_a.png', '81341_a.png', '81354_a.png', '81451_a.png', '81453_a.png', '81454_a.png', '81460_a.png', '81475_a.png', '81498_a.png', '81510_a.png', '81531_a.png', '81545_a.png', '81552_a.png', '81633_a.png', '81652_a.png', '81653_a.png', '81659_a.png', '81680_a.png', '81735_a.png', '81753_a.png', '81784_a.png', '81795_a.png', '81812_a.png', '81813_a.png', '81814_a.png', '81816_a.png', '81821_a.png', '81822_a.png', '81834_a.png', '81879_a.png', '81920_a.png', '81954_a.png', '81987_a.png', '81991_a.png', '81995_a.png', '82022_a.png', '82074_a.png', '82077_a.png', '82079_a.png', '82101_a.png', '82102_a.png', '82104_a.png', '82123_a.png', '82148_a.png', '82186_a.png', '82199_a.png', '82259_a.png', '82269_a.png', '82272_a.png', '82315_a.png', '82332_a.png', '82353_a.png', '82405_a.png', '82425_a.png', '82444_a.png', '82448_a.png', '82570_a.png', '82576_a.png', '82572_a.png', '82588_a.png', '82590_a.png', '82594_a.png', '82611_a.png', '82613_a.png', '82660_a.png', '82693_a.png', '82703_a.png', '82708_a.png', '82710_a.png', '82724_a.png', '82725_a.png', '82732_a.png', '82738_a.png', '82867_a.png', '82868_a.png', '82869_a.png', '82888_a.png', '82905_a.png', '83111_a.png', '83125_a.png', '83127_a.png', '83128_a.png', '83170_a.png', '83295_a.png', '83296_a.png', '83311_a.png', '83331_a.png', '83360_a.png', '83414_a.png', '83468_a.png', '83496_a.png', '83497_a.png', '83501_a.png', '83502_a.png', '83538_a.png', '83560_a.png', '83639_a.png', '83647_a.png', '83684_a.png', '83712_a.png', '83728_a.png', '83752_a.png', '83909_a.png', '83914_a.png', '83918_a.png', '83920_a.png', '83926_a.png', '83946_a.png', '83958_a.png', '83973_a.png', '83990_a.png', '84007_a.png', '84009_a.png', '84018_a.png', '84020_a.png', '84030_a.png', '84041_a.png', '84109_a.png', '84111_a.png', '84117_a.png', '84118_a.png', '84122_a.png', '84159_a.png', '84198_a.png', '84254_a.png', '84258_a.png', '84265_a.png', '84285_a.png', '84292_a.png', '84308_a.png', '84345_a.png', '84357_a.png', '84430_a.png', '84451_a.png', '84545_a.png', '84564_a.png', '84567_a.png', '84571_a.png', '84573_a.png', '84579_a.png', '84609_a.png', '84620_a.png', '84623_a.png', '84685_a.png', '84693_a.png', '84696_a.png', '84698_a.png', '84709_a.png', '84763_a.png', '84805_a.png', '84806_a.png', '84864_a.png', '84869_a.png', '84870_a.png', '84874_a.png', '84893_a.png', '84937_a.png', '85036_a.png', '85068_a.png', '85071_a.png', '85073_a.png', '85079_a.png', '85081_a.png', '85086_a.png', '85132_a.png', '85158_a.png', '85161_a.png', '85192_a.png', '85203_a.png', '85219_a.png', '85300_a.png', '85312_a.png', '85331_a.png', '85332_a.png', '85333_a.png', '85393_a.png', '85406_a.png', '85434_a.png', '85441_a.png', '85442_a.png', '85466_a.png', '85507_a.png', '85515_a.png', '85518_a.png', '85649_a.png', '85670_a.png', '85675_a.png', '85865_a.png', '85867_a.png', '85892_a.png', '85911_a.png', '85913_a.png', '85932_a.png', '85949_a.png', '85970_a.png', '86025_a.png', '86065_a.png', '86178_a.png', '86190_a.png', '86194_a.png', '86369_a.png', '86374_a.png', '86385_a.png', '86401_a.png', '86406_a.png', '86408_a.png', '86441_a.png', '86454_a.png', '86542_a.png', '86587_a.png', '86605_a.png', '86686_a.png', '86688_a.png', '86706_a.png', '86707_a.png', '86715_a.png', '86756_a.png', '86759_a.png', '86785_a.png', '86833_a.png', '86843_a.png', '86845_a.png', '86851_a.png', '86876_a.png', '86892_a.png', '86917_a.png', '86932_a.png', '87046_a.png', '87049_a.png', '87061_a.png', '87062_a.png', '87074_a.png', '87088_a.png', '87185_a.png', '87187_a.png', '87199_a.png', '87204_a.png', '87216_a.png', '87349_a.png', '87362_a.png', '87374_a.png', '87408_a.png', '87511_a.png', '87587_a.png', '87646_a.png', '87655_a.png', '87686_a.png', '87743_a.png', '87744_a.png', '87768_a.png', '87829_a.png', '87867_a.png', '87868_a.png', '87888_a.png', '88058_a.png', '88059_a.png', '88072_a.png', '88073_a.png', '88084_a.png', '88100_a.png', '88140_a.png', '88141_a.png', '88199_a.png', '88201_a.png', '88205_a.png', '88222_a.png', '88257_a.png', '88294_a.png', '88398_a.png', '88404_a.png', '88464_a.png', '88545_a.png', '88549_a.png', '88594_a.png', '88598_a.png', '88640_a.png', '88722_a.png', '88735_a.png', '88746_a.png', '88748_a.png', '88753_a.png', '88754_a.png', '88755_a.png', '88782_a.png', '88789_a.png', '88831_a.png', '88838_a.png', '88933_a.png', '88938_a.png', '88945_a.png', '88959_a.png', '88984_a.png', '89011_a.png', '89111_a.png', '89124_a.png', '89128_a.png', '89146_a.png', '89161_a.png', '89279_a.png', '89351_a.png', '89372_a.png', '89449_a.png', '89450_a.png', '89452_a.png', '89454_a.png', '89460_a.png', '89481_a.png', '89504_a.png', '89664_a.png', '89816_a.png', '89821_a.png', '89827_a.png', '89830_a.png', '89843_a.png', '89845_a.png', '89859_a.png', '90110_a.png', '90245_a.png', '90246_a.png', '90247_a.png', '90248_a.png', '90251_a.png', '90265_a.png', '90269_a.png', '90273_a.png', '90302_a.png', '90332_a.png', '90421_a.png', '90432_a.png', '90508_a.png', '90574_a.png', '90576_a.png', '90580_a.png', '90583_a.png', '90584_a.png', '90658_a.png', '90691_a.png', '90787_a.png', '90808_a.png', '90809_a.png', '90810_a.png', '91018_a.png', '91022_a.png', '91023_a.png', '91120_a.png', '91122_a.png', '91135_a.png', '91303_a.png', '91313_a.png', '91322_a.png', '91330_a.png', '91331_a.png', '91355_a.png', '91361_a.png', '91371_a.png', '91380_a.png', '91382_a.png', '91398_a.png', '91425_a.png', '91434_a.png', '91482_a.png', '91484_a.png', '91578_a.png', '91580_a.png', '91592_a.png', '91603_a.png', '91617_a.png', '91621_a.png', '91623_a.png', '91630_a.png', '91662_a.png', '91682_a.png', '91704_a.png', '91719_a.png', '91735_a.png', '91748_a.png', '91751_a.png', '91821_a.png', '91850_a.png', '91924_a.png', '91990_a.png', '91993_a.png', '92003_a.png', '92010_a.png', '92013_a.png', '92035_a.png', '92047_a.png', '92058_a.png', '92063_a.png', '92079_a.png', '92110_a.png', '92174_a.png', '92207_a.png', '92218_a.png', '92392_a.png', '92471_a.png', '92484_a.png', '92525_a.png', '92605_a.png', '92609_a.png', '92621_a.png', '92638_a.png', '92649_a.png', '92652_a.png', '92660_a.png', '92719_a.png', '92800_a.png', '92805_a.png', '92808_a.png', '92811_a.png', '92820_a.png', '92827_a.png', '92866_a.png', '92884_a.png', '92903_a.png', '92959_a.png', '92979_a.png', '92985_a.png', '93008_a.png', '93019_a.png', '93032_a.png', '93042_a.png', '93045_a.png', '93109_a.png', '93114_a.png', '93129_a.png', '93134_a.png', '93149_a.png', '93210_a.png', '93333_a.png', '93356_a.png', '93409_a.png', '93412_a.png', '93452_a.png', '93494_a.png', '93495_a.png', '93496_a.png', '93506_a.png', '93510_a.png', '93513_a.png', '93564_a.png', '93586_a.png', '93690_a.png', '93715_a.png', '93720_a.png', '93721_a.png', '93726_a.png', '93731_a.png', '93737_a.png', '93750_a.png', '93754_a.png', '93960_a.png', '93974_a.png', '93987_a.png', '94004_a.png', '94004_a.png', '94092_a.png', '94157_a.png', '94235_a.png', '94239_a.png', '94266_a.png', '94364_a.png', '94365_a.png', '94386_a.png', '94569_a.png', '94575_a.png', '94580_a.png', '94595_a.png', '94596_a.png', '94622_a.png', '94633_a.png', '94708_a.png', '94715_a.png', '94718_a.png', '94719_a.png', '94732_a.png', '94767_a.png', '94792_a.png', '94815_a.png', '94831_a.png', '94846_a.png', '94881_a.png', '94886_a.png', '94887_a.png', '94888_a.png', '94892_a.png', '94899_a.png', '94903_a.png', '94977_a.png', '95002_a.png', '95017_a.png', '95022_a.png', '95027_a.png', '95029_a.png', '95043_a.png', '95049_a.png', '95050_a.png', '95094_a.png', '95198_a.png', '95199_a.png', '95203_a.png', '95209_a.png', '95216_a.png', '95253_a.png', '95254_a.png', '95265_a.png', '95272_a.png', '95332_a.png', '95376_a.png', '95392_a.png', '95402_a.png', '95427_a.png', '95436_a.png', '95558_a.png', '95562_a.png', '95596_a.png', '95607_a.png', '95618_a.png', '95725_a.png', '95726_a.png', '95733_a.png', '95734_a.png', '95752_a.png', '95767_a.png', '95773_a.png', '95881_a.png', '95882_a.png', '95884_a.png', '95887_a.png', '95900_a.png', '95901_a.png', '95904_a.png', '95910_a.png', '95923_a.png', '95923_a.png', '95953_a.png', '96002_a.png', '96011_a.png', '96015_a.png', '96022_a.png', '96043_a.png', '96044_a.png', '96046_a.png', '96052_a.png', '96064_a.png', '96068_a.png', '96073_a.png', '96083_a.png', '96224_a.png', '96245_a.png', '96248_a.png', '96256_a.png', '96358_a.png', '96359_a.png', '96362_a.png', '96366_a.png', '96370_a.png', '96410_a.png', '96471_a.png', '96480_a.png', '96509_a.png', '96514_a.png', '96556_a.png', '96557_a.png', '96652_a.png', '96667_a.png', '96670_a.png', '96678_a.png', '96681_a.png', '96723_a.png', '96792_a.png', '96796_a.png', '96798_a.png', '96835_a.png', '96945_a.png', '96949_a.png', '96956_a.png', '96961_a.png', '96966_a.png', '97054_a.png', '97103_a.png', '97107_a.png', '97120_a.png', '97141_a.png', '97144_a.png', '97154_a.png', '97183_a.png', '97226_a.png', '97232_a.png', '97273_a.png', '97276_a.png', '97280_a.png', '97281_a.png', '97291_a.png', '97322_a.png', '97334_a.png', '97413_a.png', '97424_a.png', '97449_a.png', '97458_a.png', '97464_a.png', '97468_a.png', '97544_a.png', '97555_a.png', '97557_a.png', '97629_a.png', '97636_a.png', '97651_a.png', '97758_a.png', '97785_a.png', '97903_a.png', '97905_a.png', '97922_a.png', '97935_a.png', '97984_a.png', '97985_a.png', '97986_a.png', '97990_a.png', '97997_a.png', '98073_a.png', '98074_a.png', '98075_a.png', '98077_a.png', '98082_a.png', '98149_a.png', '98165_a.png', '98167_a.png', '98296_a.png', '98305_a.png', '98309_a.png', '98331_a.png', '98385_a.png', '98386_a.png', '98421_a.png', '98450_a.png', '98453_a.png', '98459_a.png', '98465_a.png', '98482_a.png', '98488_a.png', '98513_a.png', '98633_a.png', '98641_a.png', '98680_a.png', '98689_a.png', '98694_a.png', '98768_a.png', '98873_a.png', '98887_a.png', '98914_a.png', '98963_a.png', '98984_a.png', '98988_a.png', '99014_a.png', '99039_a.png', '99042_a.png', '99044_a.png', '99046_a.png', '99047_a.png', '99051_a.png', '99058_a.png', '99059_a.png', '99066_a.png', '99076_a.png', '99079_a.png', '99080_a.png', '99089_a.png', '99120_a.png', '99123_a.png', '99178_a.png', '99250_a.png', '99271_a.png', '99293_a.png', '99295_a.png', '99304_a.png', '99309_a.png', '99373_a.png', '99477_a.png', '99501_a.png', '99503_a.png', '99510_a.png', '99520_a.png', '99562_a.png', '99566_a.png', '99632_a.png', '99634_a.png', '99661_a.png', '99668_a.png', '99821_a.png', '99825_a.png', '99835_a.png', '99915_a.png', '99916_a.png', '99924_a.png', '100010_a.png', '100016_a.png', '100019_a.png', '100024_a.png', '100048_a.png', '100056_a.png', '100057_a.png', '100178_a.png', '100179_a.png', '100192_a.png', '100218_a.png', '100232_a.png', '100263_a.png', '100376_a.png', '100381_a.png', '100469_a.png', '100470_a.png', '100489_a.png', '100502_a.png', '100542_a.png', '100548_a.png', '100604_a.png', '100617_a.png', '100631_a.png', '100633_a.png', '100701_a.png', '100705_a.png', '100708_a.png', '100715_a.png', '100751_a.png', '100752_a.png', '100755_a.png', '100756_a.png', '100795_a.png', '100796_a.png', '100800_a.png', '100839_a.png', '100885_a.png', '100887_a.png', '100924_a.png', '100969_a.png', '101097_a.png', '101113_a.png', '101140_a.png', '101175_a.png', '101185_a.png', '101198_a.png', '101247_a.png', '101261_a.png', '101262_a.png', '101264_a.png', '101306_a.png', '101345_a.png', '101352_a.png', '101371_a.png', '101374_a.png', '101425_a.png', '101427_a.png', '101490_a.png', '101491_a.png', '101496_a.png', '101507_a.png', '101539_a.png', '101610_a.png', '101629_a.png', '101710_a.png', '101720_a.png', '101736_a.png', '101765_a.png', '101889_a.png', '101916_a.png', '102019_a.png', '102069_a.png', '102074_a.png', '102163_a.png', '102173_a.png', '102194_a.png', '102233_a.png', '102287_a.png', '102361_a.png', '83052_a.png', '102392_a.png', '102411_a.png', '102412_a.png', '102452_a.png', '102453_a.png', '102458_a.png', '102484_a.png', '102486_a.png', '102548_a.png', '102549_a.png', '102557_a.png', '102558_a.png', '102559_a.png', '102564_a.png', '102585_a.png', '102647_a.png', '102762_a.png', '102796_a.png', '102799_a.png', '102814_a.png', '102818_a.png', '102833_a.png', '102978_a.png', '102983_a.png', '102999_a.png', '103072_a.png', '103083_a.png', '103264_a.png', '103342_a.png', '103345_a.png', '103347_a.png', '103348_a.png', '103362_a.png', '103394_a.png', '103400_a.png', '103411_a.png', '103433_a.png', '103440_a.png', '103463_a.png', '103482_a.png', '103514_a.png', '103522_a.png', '103535_a.png', '103577_a.png', '103668_a.png', '103697_a.png', '103699_a.png', '103720_a.png', '103862_a.png', '103875_a.png', '103896_a.png', '103941_a.png', '104029_a.png', '104056_a.png', '104131_a.png', '104145_a.png', '104154_a.png', '104167_a.png', '104176_a.png', '104178_a.png', '104206_a.png', '104233_a.png', '104237_a.png', '104347_a.png', '104352_a.png', '104601_a.png', '104642_a.png', '104693_a.png', '104697_a.png', '104753_a.png', '104784_a.png', '104797_a.png', '104840_a.png', '104845_a.png', '104881_a.png', '104921_a.png', '104957_a.png', '104964_a.png', '105160_a.png', '105162_a.png', '105159_a.png', '105183_a.png', '105191_a.png', '105199_a.png', '105239_a.png', '105241_a.png', '105293_a.png', '105296_a.png', '105356_a.png', '105366_a.png', '105363_a.png', '105370_a.png', '105406_a.png', '105427_a.png', '105439_a.png', '105450_a.png', '105458_a.png', '105469_a.png', '105496_a.png', '105524_a.png', '105579_a.png', '105609_a.png', '105616_a.png', '105720_a.png', '105758_a.png', '105889_a.png', '105915_a.png', '105917_a.png', '105944_a.png', '105962_a.png', '105987_a.png', '105992_a.png', '106029_a.png', '106031_a.png', '106049_a.png', '106059_a.png', '106082_a.png', '106123_a.png', '106124_a.png', '106128_a.png', '106143_a.png', '106144_a.png', '106165_a.png', '106168_a.png', '106227_a.png', '106245_a.png', '106248_a.png', '106275_a.png', '106302_a.png', '106324_a.png', '106339_a.png', '106349_a.png', '106350_a.png', '106368_a.png', '106421_a.png', '106462_a.png', '106472_a.png', '106497_a.png', '106500_a.png', '106505_a.png', '106561_a.png', '106609_a.png', '106610_a.png', '106614_a.png', '106727_a.png', '106757_a.png', '106771_a.png', '106825_a.png', '106835_a.png', '106838_a.png', '106839_a.png', '106841_a.png', '106866_a.png', '106876_a.png', '106877_a.png', '106879_a.png', '106902_a.png', '106985_a.png', '107029_a.png', '107061_a.png', '107080_a.png', '107161_a.png', '107162_a.png', '107271_a.png', '107326_a.png', '107391_a.png', '107397_a.png', '107401_a.png', '107413_a.png', '107469_a.png', '107507_a.png', '107581_a.png', '107582_a.png', '107590_a.png', '107596_a.png', '107604_a.png', '107653_a.png', '107722_a.png', '107753_a.png', '107801_a.png', '107806_a.png', '107882_a.png', '107924_a.png', '107990_a.png', '108004_a.png', '108026_a.png', '108109_a.png', '108111_a.png', '108114_a.png', '108136_a.png', '108138_a.png', '108145_a.png', '108237_a.png', '108318_a.png', '108350_a.png', '108407_a.png', '108427_a.png', '108429_a.png', '108537_a.png', '108640_a.png', '108644_a.png', '108714_a.png', '108799_a.png', '108831_a.png', '108834_a.png', '108848_a.png', '108852_a.png', '108857_a.png', '108915_a.png', '108940_a.png', '109062_a.png', '109072_a.png', '109073_a.png', '109074_a.png', '109126_a.png', '109128_a.png', '109146_a.png', '109159_a.png', '109223_a.png', '109226_a.png', '109252_a.png', '109295_a.png', '109337_a.png', '109393_a.png', '109443_a.png', '109446_a.png', '109450_a.png', '109471_a.png', '109487_a.png', '109567_a.png', '109577_a.png', '109581_a.png', '109584_a.png', '109619_a.png', '109621_a.png', '109639_a.png', '109648_a.png', '109662_a.png', '109663_a.png', '109687_a.png', '109718_a.png', '109838_a.png', '109851_a.png', '109884_a.png', '109985_a.png', '109987_a.png', '109988_a.png', '110045_a.png', '110073_a.png', '110096_a.png', '110117_a.png', '110140_a.png', '110224_a.png', '110295_a.png', '110297_a.png', '110356_a.png', '110364_a.png', '110414_a.png', '110430_a.png', '110444_a.png', '110461_a.png', '110488_a.png', '110554_a.png', '110564_a.png', '110585_a.png', '110624_a.png', '110625_a.png', '110761_a.png', '110819_a.png', '110832_a.png', '110898_a.png', '110900_a.png', '110902_a.png', '110914_a.png', '110926_a.png', '110927_a.png', '110939_a.png', '110949_a.png', '110962_a.png', '110987_a.png', '110996_a.png', '111079_a.png', '111117_a.png', '111120_a.png', '111154_a.png', '111163_a.png', '111172_a.png', '111217_a.png', '111224_a.png', '111239_a.png', '111261_a.png', '111326_a.png', '111373_a.png', '111496_a.png', '111497_a.png', '111501_a.png', '111512_a.png', '111555_a.png', '111600_a.png', '111620_a.png', '111624_a.png', '111626_a.png', '111633_a.png', '111652_a.png', '111674_a.png', '111746_a.png', '111766_a.png', '111817_a.png', '111912_a.png', '111917_a.png', '111919_a.png', '111920_a.png', '111922_a.png', '111923_a.png', '112017_a.png', '112089_a.png', '112091_a.png', '112102_a.png', '112128_a.png', '112143_a.png', '112183_a.png', '112253_a.png', '112258_a.png', '112263_a.png', '112269_a.png', '112270_a.png', '112281_a.png', '112346_a.png', '112406_a.png', '112412_a.png', '112416_a.png', '112417_a.png', '112436_a.png', '112445_a.png', '112447_a.png', '112454_a.png', '112457_a.png', '112527_a.png', '112541_a.png', '112554_a.png', '112555_a.png', '112629_a.png', '112635_a.png', '112642_a.png', '112678_a.png', '112690_a.png', '112698_a.png', '112709_a.png', '112723_a.png', '112728_a.png', '112752_a.png', '112832_a.png', '112833_a.png', '112869_a.png', '112907_a.png', '112937_a.png', '112942_a.png', '112961_a.png', '113083_a.png', '113101_a.png', '113108_a.png', '113111_a.png', '113126_a.png', '113127_a.png', '113129_a.png', '113133_a.png', '113181_a.png', '113214_a.png', '113291_a.png', '113292_a.png', '113295_a.png', '113316_a.png', '113328_a.png', '113336_a.png', '113416_a.png', '113428_a.png', '113453_a.png', '113458_a.png', '113518_a.png', '113520_a.png', '113534_a.png', '113630_a.png', '113650_a.png', '113658_a.png', '113694_a.png', '113720_a.png', '113804_a.png', '113805_a.png', '113812_a.png', '113827_a.png', '113844_a.png', '113872_a.png', '113946_a.png', '113973_a.png', '113983_a.png', '114017_a.png', '114144_a.png', '114149_a.png', '114226_a.png', '114227_a.png', '114287_a.png', '114288_a.png', '114293_a.png', '114294_a.png', '114355_a.png', '114384_a.png', '114386_a.png', '114515_a.png', '114529_a.png', '114591_a.png', '114593_a.png', '114708_a.png', '114714_a.png', '114718_a.png', '114720_a.png', '114724_a.png', '114745_a.png', '114847_a.png', '114882_a.png', '114948_a.png', '114963_a.png', '115034_a.png', '115039_a.png', '115042_a.png', '115056_a.png', '115060_a.png', '115090_a.png', '115108_a.png', '115152_a.png', '115179_a.png', '115188_a.png', '115213_a.png', '115223_a.png', '115226_a.png', '115229_a.png', '115232_a.png', '115233_a.png', '115225_a.png', '115234_a.png', '115242_a.png', '115275_a.png', '115284_a.png', '115285_a.png', '115403_a.png', '115405_a.png', '115412_a.png', '115445_a.png', '115451_a.png', '115480_a.png', '115553_a.png', '115555_a.png', '115560_a.png', '115564_a.png', '115566_a.png', '115585_a.png', '115587_a.png', '115599_a.png', '115675_a.png', '115683_a.png', '115687_a.png', '115711_a.png', '115724_a.png', '115736_a.png', '115754_a.png', '115764_a.png', '115766_a.png', '115769_a.png', '115772_a.png', '115889_a.png', '115900_a.png', '115990_a.png', '115991_a.png', '115995_a.png', '116001_a.png', '116023_a.png', '116137_a.png', '116155_a.png', '116156_a.png', '116165_a.png', '116182_a.png', '116196_a.png', '116209_a.png', '116220_a.png', '116278_a.png', '116346_a.png', '116352_a.png', '116367_a.png', '116382_a.png', '116389_a.png', '116409_a.png', '116466_a.png', '116494_a.png', '116559_a.png', '116563_a.png', '116591_a.png', '116602_a.png', '116613_a.png', '116621_a.png', '116640_a.png', '116654_a.png', '116722_a.png', '116728_a.png', '116749_a.png', '116751_a.png', '116752_a.png', '116815_a.png', '116875_a.png', '116877_a.png', '116880_a.png', '117018_a.png', '117041_a.png', '117097_a.png', '117120_a.png', '117148_a.png', '117164_a.png', '117246_a.png', '117249_a.png', '117250_a.png', '117357_a.png', '117358_a.png', '117364_a.png', '117365_a.png', '117366_a.png', '117376_a.png', '117382_a.png', '117415_a.png', '117434_a.png', '117445_a.png', '117455_a.png', '117474_a.png', '117549_a.png', '117552_a.png', '117554_a.png', '117570_a.png', '117647_a.png', '117648_a.png', '117760_a.png', '117771_a.png', '117773_a.png', '117777_a.png', '117786_a.png', '117990_a.png', '117996_a.png', '118027_a.png', '118060_a.png', '118067_a.png', '118079_a.png', '118083_a.png', '118087_a.png', '118103_a.png', '118109_a.png', '118119_a.png', '118157_a.png', '118229_a.png', '118234_a.png', '118237_a.png', '118239_a.png', '118317_a.png', '118369_a.png', '118450_a.png', '118451_a.png', '118457_a.png', '118546_a.png', '118578_a.png', '118594_a.png', '118676_a.png', '118718_a.png', '118720_a.png', '118768_a.png', '118770_a.png', '118785_a.png', '118797_a.png', '118889_a.png', '118893_a.png', '118913_a.png', '118946_a.png', '119012_a.png', '119021_a.png', '119022_a.png', '119051_a.png', '119076_a.png', '119107_a.png', '119156_a.png', '119161_a.png', '119164_a.png', '119267_a.png', '119383_a.png', '119446_a.png', '119529_a.png', '119547_a.png', '119551_a.png', '119557_a.png', '119566_a.png', '119574_a.png', '119596_a.png', '119705_a.png', '119708_a.png', '119710_a.png', '119738_a.png', '119762_a.png', '119835_a.png', '119861_a.png', '119865_a.png', '119991_a.png', '119992_a.png', '119997_a.png', '120123_a.png', '120158_a.png', '120162_a.png', '120177_a.png', '120198_a.png', '120272_a.png', '120376_a.png', '120416_a.png', '120472_a.png', '120607_a.png', '120609_a.png', '120628_a.png', '120630_a.png', '120673_a.png', '120778_a.png', '120781_a.png', '120787_a.png', '120800_a.png', '120806_a.png', '120871_a.png', '120926_a.png', '120942_a.png', '120951_a.png', '120952_a.png', '120963_a.png', '120968_a.png', '120983_a.png', '120984_a.png', '121000_a.png', '121023_a.png', '121031_a.png', '121095_a.png', '121096_a.png', '121117_a.png', '121197_a.png', '121198_a.png', '121252_a.png', '121269_a.png', '121288_a.png', '121290_a.png', '121298_a.png', '121315_a.png', '121343_a.png', '121362_a.png', '121371_a.png', '121403_a.png', '121404_a.png', '121406_a.png', '121407_a.png', '121445_a.png', '121478_a.png', '121528_a.png', '121543_a.png', '121553_a.png', '121584_a.png', '121589_a.png', '121592_a.png', '121642_a.png', '121663_a.png', '121667_a.png', '121672_a.png', '121820_a.png', '121829_a.png', '121830_a.png', '121832_a.png', '121884_a.png', '121894_a.png', '121897_a.png', '121899_a.png', '121933_a.png', '122006_a.png', '122015_a.png', '122021_a.png', '122037_a.png', '122047_a.png', '122076_a.png', '122084_a.png', '122096_a.png', '122139_a.png', '122144_a.png', '122148_a.png', '122167_a.png', '122169_a.png', '122172_a.png', '122175_a.png', '122205_a.png', '122209_a.png', '122240_a.png', '122242_a.png', '122247_a.png', '122253_a.png', '122262_a.png', '122282_a.png', '122325_a.png', '122333_a.png', '122411_a.png', '122424_a.png', '122433_a.png', '122447_a.png', '122453_a.png', '122459_a.png', '122465_a.png', '122533_a.png', '122568_a.png', '122570_a.png', '122574_a.png', '122620_a.png', '122629_a.png', '122652_a.png', '122692_a.png', '122706_a.png', '122717_a.png', '122724_a.png', '122736_a.png', '122737_a.png', '122765_a.png', '122785_a.png', '122819_a.png', '122820_a.png', '122859_a.png', '122894_a.png', '122900_a.png', '122903_a.png', '122929_a.png', '122934_a.png', '122957_a.png', '122961_a.png', '123016_a.png', '123026_a.png', '123042_a.png', '123053_a.png', '123054_a.png', '123147_a.png', '123162_a.png', '123169_a.png', '123219_a.png', '123220_a.png', '123222_a.png', '123223_a.png', '123242_a.png', '123248_a.png', '123260_a.png', '123272_a.png', '123378_a.png', '123390_a.png', '123425_a.png', '123469_a.png', '123483_a.png', '123527_a.png', '123950_a.png', '124261_a.png', '124307_a.png', '124507_a.png', '124554_a.png', '125349_a.png', '126248_a.png', '126251_a.png', '126272_a.png', '126274_a.png', '126296_a.png', '126297_a.png', '126362_a.png', '126364_a.png', '126397_a.png', '126494_a.png', '126498_a.png', '126504_a.png', '126507_a.png', '126516_a.png', '126541_a.png', '126546_a.png', '126604_a.png', '126606_a.png', '126727_a.png', '126729_a.png', '126752_a.png', '126758_a.png', '126774_a.png', '126828_a.png', '126835_a.png', '126865_a.png', '126943_a.png', '126945_a.png', '126974_a.png', '126975_a.png', '126988_a.png', '127076_a.png', '127079_a.png', '127083_a.png', '127086_a.png', '127091_a.png', '127108_a.png', '127120_a.png', '127133_a.png', '127164_a.png', '127166_a.png', '127269_a.png', '127273_a.png', '127284_a.png', '127288_a.png', '127291_a.png', '127471_a.png', '127474_a.png', '127475_a.png', '127500_a.png', '127505_a.png', '127509_a.png', '127553_a.png', '127650_a.png', '127716_a.png', '127740_a.png', '127780_a.png', '127803_a.png', '127807_a.png', '127835_a.png', '127871_a.png', '127882_a.png', '127900_a.png', '127908_a.png', '127931_a.png', '127956_a.png', '127958_a.png', '127967_a.png', '128056_a.png', '128061_a.png', '128078_a.png', '128085_a.png', '128109_a.png', '128127_a.png', '128142_a.png', '128157_a.png', '128168_a.png', '128268_a.png', '128331_a.png', '128340_a.png', '128377_a.png', '128441_a.png', '128491_a.png', '128613_a.png', '128625_a.png', '128626_a.png', '128635_a.png', '128690_a.png', '128779_a.png', '128816_a.png', '128830_a.png', '128835_a.png', '128843_a.png', '129000_a.png', '129005_a.png', '129012_a.png', '129045_a.png', '129116_a.png', '129126_a.png', '129136_a.png', '129147_a.png', '129162_a.png', '129176_a.png', '129364_a.png', '129412_a.png', '129417_a.png', '129443_a.png', '129446_a.png', '129476_a.png', '129482_a.png', '129526_a.png', '129656_a.png', '129683_a.png', '129707_a.png', '129714_a.png', '129725_a.png', '129817_a.png', '129959_a.png', '129965_a.png', '129973_a.png', '129981_a.png', '129996_a.png', '129999_a.png', '130003_a.png', '130004_a.png', '130019_a.png', '130038_a.png', '130090_a.png', '130122_a.png', '130139_a.png', '130215_a.png', '130219_a.png', '130377_a.png', '130378_a.png', '130433_a.png', '130468_a.png', '130514_a.png', '130517_a.png', '130702_a.png', '130811_a.png', '130815_a.png', '130832_a.png', '130845_a.png', '130847_a.png', '130848_a.png', '130865_a.png', '130942_a.png', '130949_a.png', '130957_a.png', '130977_a.png', '131084_a.png', '131085_a.png', '131100_a.png', '131226_a.png', '131227_a.png', '131228_a.png', '131323_a.png', '131429_a.png', '131432_a.png', '131436_a.png', '131446_a.png', '131459_a.png', '131465_a.png', '131479_a.png', '131539_a.png', '131568_a.png', '131569_a.png', '131658_a.png', '132054_a.png', '.png']\n"
     ]
    }
   ],
   "source": [
    "from shutil import copyfile\n",
    "import os\n",
    "\n",
    "right_files = []\n",
    "all_files = []\n",
    "\n",
    "with open('yolotemp/list_images.txt') as fp:\n",
    "   line = fp.readline()\n",
    "   while line:\n",
    "       line = fp.readline()\n",
    "       right_files.append((line.split(\"\\n\")[0]).split(\".\")[0] + \".png\")\n",
    "print(right_files)\n",
    "\n",
    "for root, dirs, files in os.walk(\"yolotemp\"):\n",
    "    for filename in files:\n",
    "        all_files.append(filename)\n",
    "\n",
    "for file in right_files:\n",
    "    for filename in all_files:\n",
    "        if filename == file:\n",
    "            copyfile(\"yolotemp/\" + filename, \"yolotemp/new2/\" + filename)"
   ],
   "metadata": {
    "collapsed": false,
    "pycharm": {
     "name": "#%%\n"
    }
   }
  },
  {
   "cell_type": "markdown",
   "source": [
    "Converting Image IDs into LSOA"
   ],
   "metadata": {
    "collapsed": false,
    "pycharm": {
     "name": "#%% md\n"
    }
   }
  },
  {
   "cell_type": "code",
   "execution_count": 1,
   "outputs": [
    {
     "name": "stdout",
     "output_type": "stream",
     "text": [
      "lsoa11    E01000674\n",
      "Name: 8, dtype: object\n"
     ]
    },
    {
     "name": "stderr",
     "output_type": "stream",
     "text": [
      "/Library/Frameworks/Python.framework/Versions/3.8/lib/python3.8/site-packages/IPython/core/interactiveshell.py:3057: DtypeWarning: Columns (55) have mixed types.Specify dtype option on import or set low_memory=False.\n",
      "  has_raised = await self.run_ast_nodes(code_ast.body, cell_name,\n"
     ]
    }
   ],
   "source": [
    "import pandas as pd\n",
    "\n",
    "data = pd.read_csv (r'image_labels.csv')\n",
    "\n",
    "df = pd.DataFrame(data, columns= ['lsoa11','img_id'])\n",
    "\n",
    "df_i = df.set_index('img_id')\n",
    "\n",
    "print(df_i.loc[8]) # Uses index img_id\n",
    "#print(df_i.iloc[8]) # Uses iterative variable"
   ],
   "metadata": {
    "collapsed": false,
    "pycharm": {
     "name": "#%%\n"
    }
   }
  },
  {
   "cell_type": "code",
   "execution_count": 5,
   "outputs": [
    {
     "name": "stdout",
     "output_type": "stream",
     "text": [
      "<tensorflow.python.framework.ops.Graph object at 0x7f9f435b6dc0>\n",
      "[[ 2  2  2 ... 10 10 10]\n",
      " [ 2  2  2 ... 10 10 10]\n",
      " [10 10 10 ... 10 10 10]\n",
      " ...\n",
      " [ 1  1  1 ...  0  0  0]\n",
      " [ 1  1  1 ...  0  0  0]\n",
      " [ 1  1  1 ...  0  0  0]]\n",
      "[[10 10 10 ... 10 10 10]\n",
      " [10 10 10 ... 10 10 10]\n",
      " [10 10 10 ... 10 10 10]\n",
      " ...\n",
      " [ 0  0  0 ...  0  0  0]\n",
      " [ 0  0  0 ...  0  0  0]\n",
      " [ 0  0  0 ...  0  0  0]]\n",
      "[[ 2  2  2 ... 10 10 10]\n",
      " [ 2  2  2 ... 10 10 10]\n",
      " [10 10 10 ... 10 10 10]\n",
      " ...\n",
      " [ 1  1  1 ...  0  0  0]\n",
      " [ 1  1  1 ...  0  0  0]\n",
      " [ 1  1  1 ...  0  0  0]]\n",
      "[[10 10 10 ... 10 10 10]\n",
      " [10 10 10 ... 10 10 10]\n",
      " [10 10 10 ... 10 10 10]\n",
      " ...\n",
      " [ 0  0  0 ...  0  0  0]\n",
      " [ 0  0  0 ...  0  0  0]\n",
      " [ 0  0  0 ...  0  0  0]]\n"
     ]
    }
   ],
   "source": [
    "\n",
    "def load_graph(frozen_graph_filename):\n",
    "\n",
    "    \"\"\"\n",
    "    Args:\n",
    "        frozen_graph_filename (str): Full path to the .pb file.\n",
    "    \"\"\"\n",
    "    # We load the protobuf file from the disk and parse it to retrieve the unserialized graph_def\n",
    "    with tf.io.gfile.GFile(frozen_graph_filename, \"rb\") as f:\n",
    "        graph_def = tf.compat.v1.GraphDef()\n",
    "        graph_def.ParseFromString(f.read())\n",
    "\n",
    "        #text_format.Merge(frozen_graph_filename,graph_def)\n",
    "\n",
    "    # Then, we import the graph_def into a new Graph and returns it\n",
    "    with tf.Graph().as_default() as graph:\n",
    "        # The name var will prefix every op/nodes in your graph\n",
    "        # Since we load everything in a new graph, this is not needed\n",
    "        tf.import_graph_def(graph_def, name=\"prefix\")\n",
    "        print(graph)\n",
    "        return graph\n",
    "\n",
    "def segment(image_file):\n",
    "    \"\"\"\n",
    "    Does the segmentation on the given image.\n",
    "    Args:\n",
    "        graph (Tensorflow Graph)\n",
    "        image_file (str): Full path to your image\n",
    "    Returns:\n",
    "        segmentation_mask (np.array): The segmentation mask of the image.\n",
    "    \"\"\"\n",
    "\n",
    "    # We launch a Session\n",
    "    with tf.compat.v1.Session(graph=graph) as sess:\n",
    "        image = Image.open(image_file)\n",
    "        image = image.resize((513, 513)) # 299 513\n",
    "        image_array = np.array(image)\n",
    "        image_array = np.expand_dims(image_array, axis=0)\n",
    "\n",
    "        # Note: we don't nee to initialize/restore anything\n",
    "        # There is no Variables in this graph, only hardcoded constants\n",
    "        pred = sess.run(y, feed_dict={x: image_array})\n",
    "\n",
    "        pred = pred.squeeze()\n",
    "\n",
    "        print(pred)\n",
    "\n",
    "    return pred\n",
    "\n",
    "MODEL_FILE = 'cityscapes/frozen_inference_graph.pb'\n",
    "graph = load_graph(MODEL_FILE)\n",
    "\n",
    "x = graph.get_tensor_by_name('prefix/ImageTensor:0')\n",
    "y = graph.get_tensor_by_name('prefix/SemanticPredictions:0')\n",
    "\n",
    "if __name__ == '__main__':\n",
    "\n",
    "    N_CLASSES = 150 # 30\n",
    "    IMAGE_FILE = 'img/london4.jpg'\n",
    "'''\n",
    "    for image in images:\n",
    "\n",
    "        startTime = time.time()\n",
    "        prediction = segment(IMAGE_FILE)\n",
    "        print(startTime - time.time())\n",
    "        #print('london-images-new/' + image)\n",
    "\n",
    "        #prediction = segment(graph, 'img2/' + image)\n",
    "'''\n",
    "'''\n",
    "\n",
    "    prediction = segment(graph, IMAGE_FILE)\n",
    "    segmented_image = parse_pred(prediction, N_CLASSES)\n",
    "\n",
    "    segmented_image.show()\n",
    "'''\n",
    "\n",
    "for image in images:\n",
    "\n",
    "    output_aux = segment('img2/' + image)"
   ],
   "metadata": {
    "collapsed": false,
    "pycharm": {
     "name": "#%%\n"
    }
   }
  },
  {
   "cell_type": "code",
   "execution_count": null,
   "outputs": [],
   "source": [
    "import geopandas\n",
    "\n",
    "\n"
   ],
   "metadata": {
    "collapsed": false,
    "pycharm": {
     "name": "#%%\n"
    }
   }
  }
 ],
 "metadata": {
  "kernelspec": {
   "display_name": "Python 3",
   "language": "python",
   "name": "python3"
  }
 },
 "nbformat": 4,
 "nbformat_minor": 4
}